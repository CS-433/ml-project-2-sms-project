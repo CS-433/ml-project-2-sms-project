{
 "cells": [
  {
   "cell_type": "code",
   "source": [
    "import numpy as np\n",
    "import pandas as pd\n",
    "from keras.models import Sequential\n",
    "from keras.layers import Dense, LSTM, BatchNormalization\n",
    "from keras.optimizers import Adam\n",
    "from keras.callbacks import ReduceLROnPlateau, EarlyStopping\n",
    "from keras.regularizers import l2\n",
    "from keras.metrics import Precision, Recall, F1Score"
   ],
   "metadata": {
    "id": "bEGG_HY7rmK4",
    "executionInfo": {
     "status": "ok",
     "timestamp": 1703101232469,
     "user_tz": -60,
     "elapsed": 4892,
     "user": {
      "displayName": "Garik AMV",
      "userId": "17416187305741627565"
     }
    }
   },
   "id": "bEGG_HY7rmK4",
   "execution_count": 1,
   "outputs": []
  },
  {
   "cell_type": "code",
   "source": [
    "# connect, give access, and \"download\" your drive on the google VM\n",
    "#from google.colab import drive\n",
    "#drive.mount('/content/drive')"
   ],
   "metadata": {
    "id": "Cce5kn4E7QmY",
    "colab": {
     "base_uri": "https://localhost:8080/"
    },
    "executionInfo": {
     "status": "ok",
     "timestamp": 1703101264326,
     "user_tz": -60,
     "elapsed": 31860,
     "user": {
      "displayName": "Garik AMV",
      "userId": "17416187305741627565"
     }
    },
    "outputId": "a00f558a-c403-45c8-fa68-82fadb859ae4"
   },
   "id": "Cce5kn4E7QmY",
   "execution_count": 2,
   "outputs": [
    {
     "output_type": "stream",
     "name": "stdout",
     "text": [
      "Mounted at /content/drive\n"
     ]
    }
   ]
  },
  {
   "cell_type": "code",
   "source": [
    "# change to your path to the dataset in drive (create a shortcut of shared ML_project in \"MyDrive\")\n",
    "train_path = '/content/drive/MyDrive/ML_project/RNN/train_set_not_std_less_noise.parquet'\n",
    "test_path = '/content/drive/MyDrive/ML_project/test_set_not_std.parquet'"
   ],
   "metadata": {
    "id": "f6F2feg8mH_e",
    "executionInfo": {
     "status": "ok",
     "timestamp": 1703101264326,
     "user_tz": -60,
     "elapsed": 12,
     "user": {
      "displayName": "Garik AMV",
      "userId": "17416187305741627565"
     }
    }
   },
   "id": "f6F2feg8mH_e",
   "execution_count": 3,
   "outputs": []
  },
  {
   "cell_type": "code",
   "source": [
    "train_set = pd.read_parquet(train_path, engine='pyarrow').reset_index(drop=True)\n",
    "test_set = pd.read_parquet(test_path, engine='pyarrow').reset_index(drop=True)"
   ],
   "metadata": {
    "id": "Idjil-Yqq4pI",
    "executionInfo": {
     "status": "ok",
     "timestamp": 1703101304545,
     "user_tz": -60,
     "elapsed": 40229,
     "user": {
      "displayName": "Garik AMV",
      "userId": "17416187305741627565"
     }
    }
   },
   "id": "Idjil-Yqq4pI",
   "execution_count": 4,
   "outputs": []
  },
  {
   "cell_type": "markdown",
   "source": [
    "We want to truncated videos, to have the same length"
   ],
   "metadata": {
    "id": "nsR8SrHtQAsm"
   },
   "id": "nsR8SrHtQAsm"
  },
  {
   "cell_type": "code",
   "source": [
    "# Find shortest video in both sets\n",
    "train_video_lengths = train_set.groupby('video_id').size().min()\n",
    "test_video_lengths = test_set.groupby('video_id').size().min()\n",
    "\n",
    "# Take the minimum of both sets\n",
    "min_video_length = min(train_video_lengths, test_video_lengths)\n",
    "\n",
    "# Truncate train_set\n",
    "train_set = train_set.groupby('video_id').apply(lambda group: group.head(min_video_length)).reset_index(drop=True)\n",
    "\n",
    "# Truncate test_set\n",
    "test_set = test_set.groupby('video_id').apply(lambda group: group.head(min_video_length)).reset_index(drop=True)"
   ],
   "metadata": {
    "id": "-bBrzjQW3G6v",
    "executionInfo": {
     "status": "ok",
     "timestamp": 1703101309908,
     "user_tz": -60,
     "elapsed": 5382,
     "user": {
      "displayName": "Garik AMV",
      "userId": "17416187305741627565"
     }
    }
   },
   "id": "-bBrzjQW3G6v",
   "execution_count": 5,
   "outputs": []
  },
  {
   "cell_type": "code",
   "source": [
    "# Create label dataframes for train and test set\n",
    "y_train = train_set[['video_id','Exercise','Set']].copy().drop_duplicates()\n",
    "y_test = test_set[['video_id','Exercise','Set']].copy().drop_duplicates()\n",
    "\n",
    "# One-hot encode labels\n",
    "y_train = pd.get_dummies(y_train, columns=['Set'], prefix='Onehot')\n",
    "y_test = pd.get_dummies(y_test, columns=['Set'], prefix='Onehot')\n",
    "\n",
    "# Drop useless columns and convert to numpy array\n",
    "y_train = y_train.drop(columns=['video_id', 'Exercise']).to_numpy(dtype=np.float32)\n",
    "y_test = y_test.drop(columns=['video_id', 'Exercise']).to_numpy(dtype=np.float32)"
   ],
   "metadata": {
    "id": "puOe1gOvZZYV",
    "executionInfo": {
     "status": "ok",
     "timestamp": 1703101309910,
     "user_tz": -60,
     "elapsed": 16,
     "user": {
      "displayName": "Garik AMV",
      "userId": "17416187305741627565"
     }
    }
   },
   "id": "puOe1gOvZZYV",
   "execution_count": 6,
   "outputs": []
  },
  {
   "cell_type": "code",
   "source": [
    "# Get columns used for prediction\n",
    "feature_columns = train_set.columns.to_list()[5:]\n",
    "\n",
    "# Convert train_set and test_set to NumPy arrays\n",
    "X_train = np.array([group[feature_columns].astype(np.float32) for _, group in train_set.groupby('video_id')])\n",
    "X_test = np.array([group[feature_columns].astype(np.float32) for _, group in test_set.groupby('video_id')])"
   ],
   "metadata": {
    "id": "v-6MlciRw927",
    "executionInfo": {
     "status": "ok",
     "timestamp": 1703101315316,
     "user_tz": -60,
     "elapsed": 5417,
     "user": {
      "displayName": "Garik AMV",
      "userId": "17416187305741627565"
     }
    }
   },
   "id": "v-6MlciRw927",
   "execution_count": 7,
   "outputs": []
  },
  {
   "cell_type": "code",
   "source": [
    "del train_set\n",
    "del test_set"
   ],
   "metadata": {
    "id": "oSzYWUfFz6xz",
    "executionInfo": {
     "status": "ok",
     "timestamp": 1703101315318,
     "user_tz": -60,
     "elapsed": 30,
     "user": {
      "displayName": "Garik AMV",
      "userId": "17416187305741627565"
     }
    }
   },
   "id": "oSzYWUfFz6xz",
   "execution_count": 8,
   "outputs": []
  },
  {
   "cell_type": "code",
   "source": [
    "print(X_train.shape, y_train.shape)"
   ],
   "metadata": {
    "colab": {
     "base_uri": "https://localhost:8080/"
    },
    "id": "WI_qhM4q6o2t",
    "executionInfo": {
     "status": "ok",
     "timestamp": 1703101315319,
     "user_tz": -60,
     "elapsed": 25,
     "user": {
      "displayName": "Garik AMV",
      "userId": "17416187305741627565"
     }
    },
    "outputId": "4753ffa5-075f-468d-9137-211743585311"
   },
   "id": "WI_qhM4q6o2t",
   "execution_count": 9,
   "outputs": [
    {
     "output_type": "stream",
     "name": "stdout",
     "text": [
      "(3230, 345, 107) (3230, 7)\n"
     ]
    }
   ]
  },
  {
   "cell_type": "code",
   "source": [
    "# Modeling constants:\n",
    "M_TRAIN = X_train.shape[0]\n",
    "M_TEST = X_test.shape[0]\n",
    "N = X_train.shape[2]\n",
    "T = X_train.shape[1]\n",
    "BATCH = 150\n",
    "LR = 5e-4\n",
    "\n",
    "# Build the Model\n",
    "model = Sequential()\n",
    "model.add(\n",
    "    LSTM(\n",
    "        input_shape=(T, N), units=128,\n",
    "               activation='tanh', recurrent_activation='sigmoid'))\n",
    "\n",
    "model.add(Dense(128, activation='relu'))\n",
    "\n",
    "model.add(Dense(7, activation='softmax'))\n",
    "\n",
    "# Compile the model with Adam optimizer\n",
    "model.compile(loss='categorical_crossentropy',\n",
    "              metrics=['accuracy',F1Score()],\n",
    "              optimizer=Adam(learning_rate=LR))\n",
    "print(model.summary())"
   ],
   "metadata": {
    "colab": {
     "base_uri": "https://localhost:8080/"
    },
    "id": "QP4_HTysL4om",
    "executionInfo": {
     "status": "ok",
     "timestamp": 1703101424259,
     "user_tz": -60,
     "elapsed": 2381,
     "user": {
      "displayName": "Garik AMV",
      "userId": "17416187305741627565"
     }
    },
    "outputId": "dde23677-bb72-404c-e0df-46d3574d5945"
   },
   "id": "QP4_HTysL4om",
   "execution_count": 10,
   "outputs": [
    {
     "output_type": "stream",
     "name": "stdout",
     "text": [
      "Model: \"sequential\"\n",
      "_________________________________________________________________\n",
      " Layer (type)                Output Shape              Param #   \n",
      "=================================================================\n",
      " lstm (LSTM)                 (None, 128)               120832    \n",
      "                                                                 \n",
      " dense (Dense)               (None, 128)               16512     \n",
      "                                                                 \n",
      " dense_1 (Dense)             (None, 7)                 903       \n",
      "                                                                 \n",
      "=================================================================\n",
      "Total params: 138247 (540.03 KB)\n",
      "Trainable params: 138247 (540.03 KB)\n",
      "Non-trainable params: 0 (0.00 Byte)\n",
      "_________________________________________________________________\n",
      "None\n"
     ]
    }
   ]
  },
  {
   "cell_type": "code",
   "source": [
    "# Train the model\n",
    "history = model.fit(\n",
    "    X_train, y_train,\n",
    "    epochs=250,\n",
    "    batch_size=64,\n",
    "    validation_split=0.0,\n",
    "    validation_data=(X_test[:M_TEST], y_test[:M_TEST]),\n",
    "    shuffle=False\n",
    ")"
   ],
   "metadata": {
    "colab": {
     "base_uri": "https://localhost:8080/"
    },
    "id": "wVYON6EY-aKv",
    "executionInfo": {
     "status": "ok",
     "timestamp": 1703102645651,
     "user_tz": -60,
     "elapsed": 61977,
     "user": {
      "displayName": "Garik AMV",
      "userId": "17416187305741627565"
     }
    },
    "outputId": "372b0185-e00a-4ff5-9cd3-e9bbf2a9d66a"
   },
   "id": "wVYON6EY-aKv",
   "execution_count": 14,
   "outputs": [
    {
     "output_type": "stream",
     "name": "stdout",
     "text": [
      "Epoch 1/50\n",
      "51/51 [==============================] - 2s 32ms/step - loss: 0.2133 - accuracy: 0.9350 - f1_score: 0.9397 - val_loss: 3.1698 - val_accuracy: 0.4286 - val_f1_score: 0.3470\n",
      "Epoch 2/50\n",
      "51/51 [==============================] - 1s 21ms/step - loss: 0.1254 - accuracy: 0.9610 - f1_score: 0.9651 - val_loss: 3.2018 - val_accuracy: 0.4262 - val_f1_score: 0.3440\n",
      "Epoch 3/50\n",
      "51/51 [==============================] - 1s 21ms/step - loss: 0.0927 - accuracy: 0.9737 - f1_score: 0.9755 - val_loss: 3.4051 - val_accuracy: 0.4214 - val_f1_score: 0.3393\n",
      "Epoch 4/50\n",
      "51/51 [==============================] - 1s 22ms/step - loss: 0.0748 - accuracy: 0.9771 - f1_score: 0.9802 - val_loss: 3.3969 - val_accuracy: 0.4286 - val_f1_score: 0.3453\n",
      "Epoch 5/50\n",
      "51/51 [==============================] - 1s 22ms/step - loss: 0.1144 - accuracy: 0.9724 - f1_score: 0.9742 - val_loss: 3.4743 - val_accuracy: 0.4000 - val_f1_score: 0.3387\n",
      "Epoch 6/50\n",
      "51/51 [==============================] - 1s 22ms/step - loss: 0.1289 - accuracy: 0.9576 - f1_score: 0.9616 - val_loss: 3.4809 - val_accuracy: 0.4095 - val_f1_score: 0.3403\n",
      "Epoch 7/50\n",
      "51/51 [==============================] - 1s 21ms/step - loss: 0.1345 - accuracy: 0.9554 - f1_score: 0.9621 - val_loss: 3.4666 - val_accuracy: 0.4095 - val_f1_score: 0.3250\n",
      "Epoch 8/50\n",
      "51/51 [==============================] - 1s 24ms/step - loss: 0.0955 - accuracy: 0.9690 - f1_score: 0.9742 - val_loss: 3.4127 - val_accuracy: 0.4262 - val_f1_score: 0.3243\n",
      "Epoch 9/50\n",
      "51/51 [==============================] - 1s 26ms/step - loss: 0.0798 - accuracy: 0.9762 - f1_score: 0.9802 - val_loss: 3.5360 - val_accuracy: 0.4000 - val_f1_score: 0.3064\n",
      "Epoch 10/50\n",
      "51/51 [==============================] - 1s 26ms/step - loss: 0.0793 - accuracy: 0.9728 - f1_score: 0.9774 - val_loss: 3.5735 - val_accuracy: 0.4024 - val_f1_score: 0.3146\n",
      "Epoch 11/50\n",
      "51/51 [==============================] - 1s 25ms/step - loss: 0.0605 - accuracy: 0.9833 - f1_score: 0.9863 - val_loss: 3.5967 - val_accuracy: 0.4071 - val_f1_score: 0.3076\n",
      "Epoch 12/50\n",
      "51/51 [==============================] - 1s 22ms/step - loss: 0.0687 - accuracy: 0.9768 - f1_score: 0.9817 - val_loss: 3.6117 - val_accuracy: 0.4333 - val_f1_score: 0.3331\n",
      "Epoch 13/50\n",
      "51/51 [==============================] - 1s 26ms/step - loss: 0.0878 - accuracy: 0.9703 - f1_score: 0.9761 - val_loss: 3.6052 - val_accuracy: 0.4024 - val_f1_score: 0.3055\n",
      "Epoch 14/50\n",
      "51/51 [==============================] - 1s 27ms/step - loss: 0.0777 - accuracy: 0.9749 - f1_score: 0.9796 - val_loss: 3.7895 - val_accuracy: 0.4214 - val_f1_score: 0.3316\n",
      "Epoch 15/50\n",
      "51/51 [==============================] - 1s 27ms/step - loss: 0.1408 - accuracy: 0.9594 - f1_score: 0.9635 - val_loss: 3.6972 - val_accuracy: 0.4119 - val_f1_score: 0.3150\n",
      "Epoch 16/50\n",
      "51/51 [==============================] - 1s 26ms/step - loss: 0.1725 - accuracy: 0.9415 - f1_score: 0.9487 - val_loss: 3.6912 - val_accuracy: 0.4071 - val_f1_score: 0.3192\n",
      "Epoch 17/50\n",
      "51/51 [==============================] - 1s 24ms/step - loss: 0.2042 - accuracy: 0.9344 - f1_score: 0.9427 - val_loss: 3.7785 - val_accuracy: 0.3952 - val_f1_score: 0.3057\n",
      "Epoch 18/50\n",
      "51/51 [==============================] - 1s 21ms/step - loss: 0.2636 - accuracy: 0.9111 - f1_score: 0.9205 - val_loss: 3.7220 - val_accuracy: 0.3786 - val_f1_score: 0.3078\n",
      "Epoch 19/50\n",
      "51/51 [==============================] - 1s 21ms/step - loss: 0.2091 - accuracy: 0.9291 - f1_score: 0.9348 - val_loss: 3.4850 - val_accuracy: 0.4000 - val_f1_score: 0.3285\n",
      "Epoch 20/50\n",
      "51/51 [==============================] - 1s 26ms/step - loss: 0.2169 - accuracy: 0.9347 - f1_score: 0.9382 - val_loss: 3.4931 - val_accuracy: 0.4238 - val_f1_score: 0.3303\n",
      "Epoch 21/50\n",
      "51/51 [==============================] - 1s 25ms/step - loss: 0.1400 - accuracy: 0.9554 - f1_score: 0.9601 - val_loss: 3.5558 - val_accuracy: 0.4167 - val_f1_score: 0.3090\n",
      "Epoch 22/50\n",
      "51/51 [==============================] - 1s 25ms/step - loss: 0.0978 - accuracy: 0.9752 - f1_score: 0.9784 - val_loss: 3.4849 - val_accuracy: 0.4048 - val_f1_score: 0.3119\n",
      "Epoch 23/50\n",
      "51/51 [==============================] - 1s 24ms/step - loss: 0.0919 - accuracy: 0.9762 - f1_score: 0.9787 - val_loss: 3.5065 - val_accuracy: 0.4381 - val_f1_score: 0.3382\n",
      "Epoch 24/50\n",
      "51/51 [==============================] - 1s 21ms/step - loss: 0.0889 - accuracy: 0.9740 - f1_score: 0.9772 - val_loss: 3.4805 - val_accuracy: 0.4167 - val_f1_score: 0.3241\n",
      "Epoch 25/50\n",
      "51/51 [==============================] - 1s 21ms/step - loss: 0.1046 - accuracy: 0.9700 - f1_score: 0.9734 - val_loss: 3.5406 - val_accuracy: 0.4167 - val_f1_score: 0.3195\n",
      "Epoch 26/50\n",
      "51/51 [==============================] - 1s 23ms/step - loss: 0.0853 - accuracy: 0.9703 - f1_score: 0.9727 - val_loss: 3.6223 - val_accuracy: 0.4167 - val_f1_score: 0.3261\n",
      "Epoch 27/50\n",
      "51/51 [==============================] - 1s 23ms/step - loss: 0.0767 - accuracy: 0.9762 - f1_score: 0.9793 - val_loss: 3.5842 - val_accuracy: 0.4071 - val_f1_score: 0.3072\n",
      "Epoch 28/50\n",
      "51/51 [==============================] - 1s 21ms/step - loss: 0.0793 - accuracy: 0.9743 - f1_score: 0.9783 - val_loss: 3.5323 - val_accuracy: 0.4143 - val_f1_score: 0.3259\n",
      "Epoch 29/50\n",
      "51/51 [==============================] - 1s 23ms/step - loss: 0.0657 - accuracy: 0.9808 - f1_score: 0.9837 - val_loss: 3.6618 - val_accuracy: 0.4286 - val_f1_score: 0.3278\n",
      "Epoch 30/50\n",
      "51/51 [==============================] - 1s 21ms/step - loss: 0.0774 - accuracy: 0.9721 - f1_score: 0.9772 - val_loss: 3.5834 - val_accuracy: 0.4143 - val_f1_score: 0.3213\n",
      "Epoch 31/50\n",
      "51/51 [==============================] - 1s 21ms/step - loss: 0.0699 - accuracy: 0.9762 - f1_score: 0.9782 - val_loss: 3.6136 - val_accuracy: 0.4167 - val_f1_score: 0.3260\n",
      "Epoch 32/50\n",
      "51/51 [==============================] - 1s 23ms/step - loss: 0.0603 - accuracy: 0.9848 - f1_score: 0.9863 - val_loss: 3.6757 - val_accuracy: 0.4262 - val_f1_score: 0.3383\n",
      "Epoch 33/50\n",
      "51/51 [==============================] - 1s 25ms/step - loss: 0.0749 - accuracy: 0.9786 - f1_score: 0.9803 - val_loss: 3.6600 - val_accuracy: 0.4571 - val_f1_score: 0.3469\n",
      "Epoch 34/50\n",
      "51/51 [==============================] - 1s 27ms/step - loss: 0.0995 - accuracy: 0.9715 - f1_score: 0.9762 - val_loss: 3.8213 - val_accuracy: 0.4143 - val_f1_score: 0.3198\n",
      "Epoch 35/50\n",
      "51/51 [==============================] - 1s 26ms/step - loss: 0.1517 - accuracy: 0.9492 - f1_score: 0.9581 - val_loss: 3.5770 - val_accuracy: 0.4286 - val_f1_score: 0.3374\n",
      "Epoch 36/50\n",
      "51/51 [==============================] - 1s 22ms/step - loss: 0.1333 - accuracy: 0.9542 - f1_score: 0.9621 - val_loss: 3.7060 - val_accuracy: 0.3881 - val_f1_score: 0.3032\n",
      "Epoch 37/50\n",
      "51/51 [==============================] - 1s 23ms/step - loss: 0.0986 - accuracy: 0.9653 - f1_score: 0.9713 - val_loss: 3.7003 - val_accuracy: 0.4190 - val_f1_score: 0.3216\n",
      "Epoch 38/50\n",
      "51/51 [==============================] - 1s 23ms/step - loss: 0.1326 - accuracy: 0.9567 - f1_score: 0.9642 - val_loss: 3.8212 - val_accuracy: 0.3857 - val_f1_score: 0.3126\n",
      "Epoch 39/50\n",
      "51/51 [==============================] - 1s 21ms/step - loss: 0.1921 - accuracy: 0.9430 - f1_score: 0.9518 - val_loss: 3.6680 - val_accuracy: 0.3762 - val_f1_score: 0.2942\n",
      "Epoch 40/50\n",
      "51/51 [==============================] - 1s 23ms/step - loss: 0.2454 - accuracy: 0.9173 - f1_score: 0.9198 - val_loss: 3.7639 - val_accuracy: 0.3833 - val_f1_score: 0.2947\n",
      "Epoch 41/50\n",
      "51/51 [==============================] - 1s 22ms/step - loss: 0.3325 - accuracy: 0.8991 - f1_score: 0.9036 - val_loss: 3.6988 - val_accuracy: 0.3476 - val_f1_score: 0.2838\n",
      "Epoch 42/50\n",
      "51/51 [==============================] - 1s 23ms/step - loss: 0.3894 - accuracy: 0.8755 - f1_score: 0.8844 - val_loss: 3.3980 - val_accuracy: 0.3810 - val_f1_score: 0.3123\n",
      "Epoch 43/50\n",
      "51/51 [==============================] - 1s 21ms/step - loss: 0.2677 - accuracy: 0.9056 - f1_score: 0.9124 - val_loss: 3.3122 - val_accuracy: 0.4357 - val_f1_score: 0.3337\n",
      "Epoch 44/50\n",
      "51/51 [==============================] - 1s 21ms/step - loss: 0.1254 - accuracy: 0.9610 - f1_score: 0.9657 - val_loss: 3.5295 - val_accuracy: 0.4238 - val_f1_score: 0.3200\n",
      "Epoch 45/50\n",
      "51/51 [==============================] - 1s 26ms/step - loss: 0.0749 - accuracy: 0.9802 - f1_score: 0.9821 - val_loss: 3.6646 - val_accuracy: 0.4143 - val_f1_score: 0.3136\n",
      "Epoch 46/50\n",
      "51/51 [==============================] - 1s 25ms/step - loss: 0.0524 - accuracy: 0.9882 - f1_score: 0.9900 - val_loss: 3.7028 - val_accuracy: 0.4167 - val_f1_score: 0.3182\n",
      "Epoch 47/50\n",
      "51/51 [==============================] - 1s 27ms/step - loss: 0.0398 - accuracy: 0.9938 - f1_score: 0.9945 - val_loss: 3.7770 - val_accuracy: 0.4238 - val_f1_score: 0.3253\n",
      "Epoch 48/50\n",
      "51/51 [==============================] - 1s 24ms/step - loss: 0.0356 - accuracy: 0.9935 - f1_score: 0.9945 - val_loss: 3.8627 - val_accuracy: 0.4095 - val_f1_score: 0.3188\n",
      "Epoch 49/50\n",
      "51/51 [==============================] - 1s 21ms/step - loss: 0.0339 - accuracy: 0.9923 - f1_score: 0.9937 - val_loss: 3.8804 - val_accuracy: 0.4262 - val_f1_score: 0.3239\n",
      "Epoch 50/50\n",
      "51/51 [==============================] - 1s 22ms/step - loss: 0.0299 - accuracy: 0.9935 - f1_score: 0.9946 - val_loss: 3.9119 - val_accuracy: 0.4238 - val_f1_score: 0.3232\n"
     ]
    }
   ]
  },
  {
   "cell_type": "code",
   "source": [
    "# Evaluate the model on the test set\n",
    "loss, accuracy = model.evaluate(X_test, y_test)\n",
    "print(f'Test Accuracy: {accuracy * 100:.2f}%')"
   ],
   "metadata": {
    "colab": {
     "base_uri": "https://localhost:8080/"
    },
    "id": "cNTtFhyp-hyU",
    "executionInfo": {
     "status": "ok",
     "timestamp": 1702903759967,
     "user_tz": -60,
     "elapsed": 1586,
     "user": {
      "displayName": "Garik AMV",
      "userId": "17416187305741627565"
     }
    },
    "outputId": "70468e86-d792-4dec-b175-f4e125ca684b"
   },
   "id": "cNTtFhyp-hyU",
   "execution_count": null,
   "outputs": [
    {
     "output_type": "stream",
     "name": "stdout",
     "text": [
      "14/14 [==============================] - 0s 28ms/step - loss: 3.8368 - accuracy: 0.4810\n",
      "Test Accuracy: 48.10%\n"
     ]
    }
   ]
  }
 ],
 "metadata": {
  "kernelspec": {
   "display_name": "Python 3",
   "name": "python3"
  },
  "language_info": {
   "codemirror_mode": {
    "name": "ipython",
    "version": 3
   },
   "file_extension": ".py",
   "mimetype": "text/x-python",
   "name": "python",
   "nbconvert_exporter": "python",
   "pygments_lexer": "ipython3",
   "version": "3.8.5"
  },
  "colab": {
   "provenance": [
    {
     "file_id": "https://github.com/RamiATASSI/ML_project2/blob/main/Tests.ipynb",
     "timestamp": 1701879533842
    }
   ],
   "gpuType": "T4"
  },
  "accelerator": "GPU"
 },
 "nbformat": 4,
 "nbformat_minor": 5
}
