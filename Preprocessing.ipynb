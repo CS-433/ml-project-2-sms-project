{
 "cells": [
  {
   "cell_type": "code",
   "source": [
    "import pandas as pd\n",
    "import numpy as np\n",
    "import seaborn as sns\n",
    "import matplotlib.pyplot as plt"
   ],
   "metadata": {
    "id": "bwXmp_jDmZpr",
    "executionInfo": {
     "status": "ok",
     "timestamp": 1702764882922,
     "user_tz": -60,
     "elapsed": 1751,
     "user": {
      "displayName": "Garik AMV",
      "userId": "17416187305741627565"
     }
    }
   },
   "id": "bwXmp_jDmZpr",
   "execution_count": 1,
   "outputs": []
  },
  {
   "cell_type": "code",
   "execution_count": 2,
   "outputs": [],
   "source": [
    "# connect, give access, and \"download\" your drive on the google VM\n",
    "#from google.colab import drive\n",
    "#drive.mount('/content/drive')"
   ],
   "metadata": {
    "collapsed": false
   }
  },
  {
   "cell_type": "code",
   "source": [
    "# change to your path to the dataset in drive (create a shortcut of shared ML_project in \"MyDrive\")\n",
    "#your_drive_path = '/content/drive/MyDrive/ML_project/dataset.parquet'\n",
    "local_path = 'dataset.parquet'"
   ],
   "metadata": {
    "id": "f6F2feg8mH_e",
    "executionInfo": {
     "status": "ok",
     "timestamp": 1702764884690,
     "user_tz": -60,
     "elapsed": 7,
     "user": {
      "displayName": "Garik AMV",
      "userId": "17416187305741627565"
     }
    }
   },
   "id": "f6F2feg8mH_e",
   "execution_count": 2,
   "outputs": []
  },
  {
   "cell_type": "code",
   "source": [
    "df = pd.read_parquet(local_path, engine='pyarrow')"
   ],
   "metadata": {
    "id": "Idjil-Yqq4pI",
    "executionInfo": {
     "status": "ok",
     "timestamp": 1702764890090,
     "user_tz": -60,
     "elapsed": 5406,
     "user": {
      "displayName": "Garik AMV",
      "userId": "17416187305741627565"
     }
    }
   },
   "id": "Idjil-Yqq4pI",
   "execution_count": 3,
   "outputs": []
  },
  {
   "cell_type": "markdown",
   "source": [
    "# Initial preprocessing"
   ],
   "metadata": {
    "id": "rAci_wZ0xsHd"
   },
   "id": "rAci_wZ0xsHd"
  },
  {
   "cell_type": "markdown",
   "source": [
    "We create a video_id which identifies each video.\n"
   ],
   "metadata": {
    "id": "9QDm2Egq2FmJ"
   },
   "id": "9QDm2Egq2FmJ"
  },
  {
   "cell_type": "code",
   "source": [
    "# Find the rows where time is 0\n",
    "start_of_video = df['time(s)'] == 0\n",
    "\n",
    "# Use cumsum to create a unique video_id for each video\n",
    "df['video_id'] = start_of_video.cumsum() - 1\n",
    "\n",
    "# Forward-fill the video_id to all rows within the same video series\n",
    "df['video_id'] = df['video_id'].ffill(downcast='int')\n",
    "\n",
    "# Reorder columns, moving 'video_id' to the first position\n",
    "df = df[['video_id'] + [col for col in df.columns if col != 'video_id']]"
   ],
   "metadata": {
    "id": "jYn-Sl9Vxl8o",
    "executionInfo": {
     "status": "ok",
     "timestamp": 1702764891308,
     "user_tz": -60,
     "elapsed": 1257,
     "user": {
      "displayName": "Garik AMV",
      "userId": "17416187305741627565"
     }
    }
   },
   "id": "jYn-Sl9Vxl8o",
   "execution_count": 4,
   "outputs": [
    {
     "name": "stderr",
     "output_type": "stream",
     "text": [
      "C:\\Users\\41794\\AppData\\Local\\Temp\\ipykernel_18768\\2335139889.py:8: FutureWarning: The 'downcast' keyword in ffill is deprecated and will be removed in a future version. Use res.infer_objects(copy=False) to infer non-object dtype, or pd.to_numeric with the 'downcast' keyword to downcast numeric results.\n",
      "  df['video_id'] = df['video_id'].ffill(downcast='int')\n"
     ]
    }
   ]
  },
  {
   "cell_type": "markdown",
   "source": [
    "We then onehot encode exercises."
   ],
   "metadata": {
    "id": "EA4K6sBjowBg"
   },
   "id": "EA4K6sBjowBg"
  },
  {
   "cell_type": "code",
   "source": [
    "one_hot_encoded_exercises = pd.get_dummies(df['Exercise'], prefix='encoded_exo')\n",
    "\n",
    "# Concatenate the new one-hot encoded columns to the original DataFrame\n",
    "df = pd.concat([df, one_hot_encoded_exercises], axis=1)"
   ],
   "metadata": {
    "id": "jgaPtHqPEOiJ",
    "executionInfo": {
     "status": "ok",
     "timestamp": 1702764892819,
     "user_tz": -60,
     "elapsed": 1515,
     "user": {
      "displayName": "Garik AMV",
      "userId": "17416187305741627565"
     }
    }
   },
   "id": "jgaPtHqPEOiJ",
   "execution_count": 5,
   "outputs": []
  },
  {
   "cell_type": "markdown",
   "source": [
    "We first drop the first 2 seconds and the last second of each video, because they approximately correspond to a reference pose and clapping."
   ],
   "metadata": {
    "id": "1fsLaMoF0iRa"
   },
   "id": "1fsLaMoF0iRa"
  },
  {
   "cell_type": "code",
   "source": [
    "# Drop the first 60 frames and the last 30 frames for each video\n",
    "df = df.groupby('video_id').apply(lambda group: group.iloc[60:-30]).reset_index(drop=True)"
   ],
   "metadata": {
    "id": "OxkkKcP5yFDw",
    "executionInfo": {
     "status": "ok",
     "timestamp": 1702764895948,
     "user_tz": -60,
     "elapsed": 3135,
     "user": {
      "displayName": "Garik AMV",
      "userId": "17416187305741627565"
     }
    }
   },
   "id": "OxkkKcP5yFDw",
   "execution_count": 6,
   "outputs": []
  },
  {
   "cell_type": "markdown",
   "source": [
    "We will now handle missing values. We will crop parts of videos that have more than 20 (obtained by cross validation) missing continuous frames. Then we will perform linear interpolation to estimate missing joint positions that consist of less than 20 continuous frames."
   ],
   "metadata": {
    "id": "UYsnyWK807MU"
   },
   "id": "UYsnyWK807MU"
  },
  {
   "cell_type": "code",
   "source": [
    "nan_mask = df.isna().any(axis = 1)\n",
    "# Get the indices of the rows with NaN values\n",
    "nan_indices = [i for i, has_nan in enumerate(nan_mask) if has_nan]\n",
    "\n",
    "th = 20\n",
    "current_sequence_length = 1\n",
    "ids = []\n",
    "tmp = []\n",
    "\n",
    "# Get indices that have more than 20 continuous missing frames\n",
    "for i in range(1, len(nan_indices)-1):\n",
    "    tmp.append(nan_indices[i])\n",
    "    if nan_indices[i] == nan_indices[i + 1] - 1:\n",
    "        current_sequence_length += 1\n",
    "    else:\n",
    "        if current_sequence_length > th:\n",
    "            ids.append(tmp)\n",
    "        tmp = []\n",
    "        current_sequence_length = 1\n",
    "ids = np.concatenate(ids)\n",
    "\n",
    "# Drop rows based on iloc indices\n",
    "df = df.drop(ids)\n",
    "\n",
    "# Reset index if needed\n",
    "df = df.reset_index(drop=True)"
   ],
   "metadata": {
    "id": "qZoe-CFO8nyT",
    "executionInfo": {
     "status": "ok",
     "timestamp": 1702764898768,
     "user_tz": -60,
     "elapsed": 2874,
     "user": {
      "displayName": "Garik AMV",
      "userId": "17416187305741627565"
     }
    }
   },
   "id": "qZoe-CFO8nyT",
   "execution_count": 7,
   "outputs": []
  },
  {
   "cell_type": "code",
   "source": [
    "#Interpolating linearly for the missing frames\n",
    "df = df.interpolate(method='linear', axis=0, limit_direction='both')"
   ],
   "metadata": {
    "id": "gBZCEs3_xRfe",
    "executionInfo": {
     "status": "ok",
     "timestamp": 1702764907207,
     "user_tz": -60,
     "elapsed": 8449,
     "user": {
      "displayName": "Garik AMV",
      "userId": "17416187305741627565"
     }
    }
   },
   "id": "gBZCEs3_xRfe",
   "execution_count": 8,
   "outputs": [
    {
     "name": "stderr",
     "output_type": "stream",
     "text": [
      "C:\\Users\\41794\\AppData\\Local\\Temp\\ipykernel_18768\\3724438224.py:2: FutureWarning: DataFrame.interpolate with object dtype is deprecated and will raise in a future version. Call obj.infer_objects(copy=False) before interpolating instead.\n",
      "  df = df.interpolate(method='linear', axis=0, limit_direction='both')\n"
     ]
    }
   ]
  },
  {
   "cell_type": "markdown",
   "source": [
    "# Train / test split"
   ],
   "metadata": {
    "id": "pNaGmIbZRJYF"
   },
   "id": "pNaGmIbZRJYF"
  },
  {
   "cell_type": "markdown",
   "source": [
    "We now split the dataset into two dataframes, containing the train and test sets. We select 5 participants that will be in the test set, while others will be in the train set."
   ],
   "metadata": {
    "id": "6sHwfP6zpSc7"
   },
   "id": "6sHwfP6zpSc7"
  },
  {
   "cell_type": "code",
   "source": [
    "# Combine 'Set' and 'Exercise' columns to create a new column for grouping\n",
    "df['Combined_Labels'] = df['Set'].astype(str) + '_' + df['Exercise'].astype(str)\n",
    "\n",
    "# Select participants that will be part of the test set\n",
    "test_participants = ['P04','P05','P09','P11','P12']\n",
    "\n",
    "# Split into train and test sets\n",
    "train_set = df[~df['Participant'].isin(test_participants)]\n",
    "test_set = df[df['Participant'].isin(test_participants)]\n",
    "\n",
    "# Check that both sets contain a maximum amount of labels\n",
    "unique_labels_train = train_set['Combined_Labels'].nunique()\n",
    "unique_labels_test = test_set['Combined_Labels'].nunique()\n",
    "\n",
    "print(\"Train set contains \",unique_labels_train,\"/38 labels.\")\n",
    "print(\"Test set contains \",unique_labels_test,\"/38 labels.\")\n",
    "\n",
    "# Drop the temporary 'Combined_Labels' column\n",
    "train_set = train_set.drop('Combined_Labels', axis=1)\n",
    "test_set = test_set.drop('Combined_Labels', axis=1)"
   ],
   "metadata": {
    "colab": {
     "base_uri": "https://localhost:8080/"
    },
    "id": "zn9QqLY_WjpA",
    "executionInfo": {
     "status": "ok",
     "timestamp": 1702764910122,
     "user_tz": -60,
     "elapsed": 2938,
     "user": {
      "displayName": "Garik AMV",
      "userId": "17416187305741627565"
     }
    },
    "outputId": "2f75d6a6-f625-46b8-fda6-41722ccf0582"
   },
   "id": "zn9QqLY_WjpA",
   "execution_count": 9,
   "outputs": [
    {
     "name": "stdout",
     "output_type": "stream",
     "text": [
      "Train set contains  38 /38 labels.\n",
      "Test set contains  37 /38 labels.\n"
     ]
    }
   ]
  },
  {
   "cell_type": "markdown",
   "source": [
    "# Data Augmentation"
   ],
   "metadata": {
    "id": "2tkNYGEqRCH_"
   },
   "id": "2tkNYGEqRCH_"
  },
  {
   "cell_type": "markdown",
   "source": [
    "Let's look at the distribution of our train set"
   ],
   "metadata": {
    "id": "pkQ325e4Uh5R"
   },
   "id": "pkQ325e4Uh5R"
  },
  {
   "cell_type": "code",
   "source": [
    "# Aggregate the data at the video level\n",
    "video_aggregated = train_set.groupby(['video_id', 'Exercise', 'Set']).size().reset_index(name='Count')\n",
    "\n",
    "# Plot the distribution of Sets within each Exercise\n",
    "plt.figure(figsize=(8, 4))\n",
    "sns.countplot(x='Exercise', hue='Set', data=video_aggregated)\n",
    "\n",
    "# Reduce the size of the legend\n",
    "plt.legend(prop={'size': 6})\n",
    "\n",
    "plt.title('Distribution of Sets within each Exercise in our train set')\n",
    "plt.show()"
   ],
   "metadata": {
    "colab": {
     "base_uri": "https://localhost:8080/",
     "height": 410
    },
    "id": "z0elWWtyWOgL",
    "executionInfo": {
     "status": "ok",
     "timestamp": 1702764911532,
     "user_tz": -60,
     "elapsed": 1424,
     "user": {
      "displayName": "Garik AMV",
      "userId": "17416187305741627565"
     }
    },
    "outputId": "fe783781-cd15-4962-ad3e-f8139d528e58"
   },
   "id": "z0elWWtyWOgL",
   "execution_count": 10,
   "outputs": [
    {
     "name": "stderr",
     "output_type": "stream",
     "text": [
      "C:\\Users\\41794\\anaconda3\\envs\\ada\\Lib\\site-packages\\seaborn\\_oldcore.py:1498: FutureWarning: is_categorical_dtype is deprecated and will be removed in a future version. Use isinstance(dtype, CategoricalDtype) instead\n",
      "  if pd.api.types.is_categorical_dtype(vector):\n",
      "C:\\Users\\41794\\anaconda3\\envs\\ada\\Lib\\site-packages\\seaborn\\_oldcore.py:1498: FutureWarning: is_categorical_dtype is deprecated and will be removed in a future version. Use isinstance(dtype, CategoricalDtype) instead\n",
      "  if pd.api.types.is_categorical_dtype(vector):\n",
      "C:\\Users\\41794\\anaconda3\\envs\\ada\\Lib\\site-packages\\seaborn\\_oldcore.py:1498: FutureWarning: is_categorical_dtype is deprecated and will be removed in a future version. Use isinstance(dtype, CategoricalDtype) instead\n",
      "  if pd.api.types.is_categorical_dtype(vector):\n",
      "C:\\Users\\41794\\anaconda3\\envs\\ada\\Lib\\site-packages\\seaborn\\_oldcore.py:1498: FutureWarning: is_categorical_dtype is deprecated and will be removed in a future version. Use isinstance(dtype, CategoricalDtype) instead\n",
      "  if pd.api.types.is_categorical_dtype(vector):\n"
     ]
    },
    {
     "data": {
      "text/plain": "<Figure size 800x400 with 1 Axes>",
      "image/png": "[encoded data removed]"
     },
     "metadata": {},
     "output_type": "display_data"
    }
   ]
  },
  {
   "cell_type": "markdown",
   "source": [
    "We can see that our train set is heavily unbalanced. We will thus, balance our dataset by randomly sampling a video of a certain type (Exercise,Set), duplicate it, add gaussian noise to it, and append it to our train set. This will also make the model more robust to noise."
   ],
   "metadata": {
    "id": "pbbwdLQkTiRa"
   },
   "id": "pbbwdLQkTiRa"
  },
  {
   "cell_type": "code",
   "source": [
    "def add_gaussian_noise_to_series(series_df, video_id, noise_std):\n",
    "    # Extract the video series based on the provided video_id\n",
    "    video_series = series_df[series_df['video_id'] == video_id].copy()\n",
    "\n",
    "    # Add Gaussian noise to the joint positions\n",
    "    for col in video_series.columns[6:105]:\n",
    "        noise = np.random.normal(0, noise_std, len(video_series))\n",
    "        video_series[col] += noise\n",
    "\n",
    "    # Clip the joint positions to be within the -1 to 1 range\n",
    "    video_series.iloc[:, 6:105] = np.clip(video_series.iloc[:, 6:105], -1, 1)\n",
    "\n",
    "    # Increment the series_id for the new video\n",
    "    video_series['video_id'] = series_df['video_id'].max() + 1\n",
    "\n",
    "    # Append the new video to the DataFrame\n",
    "    return pd.concat([series_df, video_series], ignore_index=True)"
   ],
   "metadata": {
    "id": "HdpLpCmTVMEm",
    "executionInfo": {
     "status": "ok",
     "timestamp": 1702764911532,
     "user_tz": -60,
     "elapsed": 10,
     "user": {
      "displayName": "Garik AMV",
      "userId": "17416187305741627565"
     }
    }
   },
   "id": "HdpLpCmTVMEm",
   "execution_count": 12,
   "outputs": []
  },
  {
   "cell_type": "code",
   "source": [
    "def augment_videos(combination, df, desired_count):\n",
    "    # Extract exercise and set values from the combination\n",
    "    exercise, set_value = combination\n",
    "\n",
    "    # Count the current number of unique videos for the given combination of exercise and set\n",
    "    current_count = len(df[(df['Exercise'] == exercise) & (df['Set'] == set_value)]['video_id'].unique())\n",
    "\n",
    "    # Calculate the number of videos to add to reach the desired count\n",
    "    videos_to_add = desired_count - current_count\n",
    "\n",
    "    # Loop to add videos with Gaussian noise\n",
    "    for _ in range(videos_to_add):\n",
    "        # Set the standard deviation for Gaussian noise\n",
    "        noise_std = 0.1\n",
    "\n",
    "        # Sample a random video_id from the given combination of exercise and set\n",
    "        sampled_video_id = df[(df['Exercise'] == exercise) & (df['Set'] == set_value)]['video_id'].sample().values[0]\n",
    "\n",
    "        # Apply the function to add Gaussian noise to the sampled video\n",
    "        df = add_gaussian_noise_to_series(df, sampled_video_id, noise_std)\n",
    "\n",
    "    return df"
   ],
   "metadata": {
    "id": "7L3-RGPX_Hj4",
    "executionInfo": {
     "status": "ok",
     "timestamp": 1702764911533,
     "user_tz": -60,
     "elapsed": 9,
     "user": {
      "displayName": "Garik AMV",
      "userId": "17416187305741627565"
     }
    }
   },
   "id": "7L3-RGPX_Hj4",
   "execution_count": 13,
   "outputs": []
  },
  {
   "cell_type": "code",
   "source": [
    "# Define the desired number of videos per combination\n",
    "desired_videos_per_combination = 85\n",
    "\n",
    "# Group by \"Exercise\" and \"Set\" and count the number of unique videos in each group\n",
    "video_counts = train_set.groupby(['Exercise', 'Set'])['video_id'].nunique()\n",
    "\n",
    "# Identify combinations that need augmentation\n",
    "combinations_to_augment = video_counts[video_counts < desired_videos_per_combination].index\n",
    "\n",
    "\n",
    "# Augment videos for combinations that need it\n",
    "for combination in combinations_to_augment:\n",
    "    train_set = augment_videos(combination, train_set, desired_videos_per_combination)"
   ],
   "metadata": {
    "colab": {
     "base_uri": "https://localhost:8080/",
     "height": 356
    },
    "id": "bi4rPHoR9Zoy",
    "executionInfo": {
     "status": "error",
     "timestamp": 1702765040649,
     "user_tz": -60,
     "elapsed": 129125,
     "user": {
      "displayName": "Garik AMV",
      "userId": "17416187305741627565"
     }
    },
    "outputId": "06aa4511-13d1-4dd6-ef91-99f702b1b324"
   },
   "id": "bi4rPHoR9Zoy",
   "execution_count": 14,
   "outputs": []
  },
  {
   "cell_type": "code",
   "source": [
    "# Verify the result\n",
    "\n",
    "# Aggregate the data at the video level\n",
    "video_aggregated = train_set.groupby(['video_id', 'Exercise', 'Set']).size().reset_index(name='Count')\n",
    "\n",
    "# Plot the distribution of Sets within each Exercise\n",
    "plt.figure(figsize=(8, 4))\n",
    "sns.countplot(x='Exercise', hue='Set', data=video_aggregated)\n",
    "\n",
    "# Reduce the size of the legend\n",
    "plt.legend(prop={'size': 6})\n",
    "\n",
    "plt.title('Distribution of Sets within Each Exercise in our train set')\n",
    "plt.show()"
   ],
   "metadata": {
    "id": "wZ1oCYhkPCyI",
    "executionInfo": {
     "status": "aborted",
     "timestamp": 1702758817438,
     "user_tz": -60,
     "elapsed": 31,
     "user": {
      "displayName": "Garik AMV",
      "userId": "17416187305741627565"
     }
    }
   },
   "id": "wZ1oCYhkPCyI",
   "execution_count": 15,
   "outputs": [
    {
     "name": "stderr",
     "output_type": "stream",
     "text": [
      "C:\\Users\\41794\\anaconda3\\envs\\ada\\Lib\\site-packages\\seaborn\\_oldcore.py:1498: FutureWarning: is_categorical_dtype is deprecated and will be removed in a future version. Use isinstance(dtype, CategoricalDtype) instead\n",
      "  if pd.api.types.is_categorical_dtype(vector):\n",
      "C:\\Users\\41794\\anaconda3\\envs\\ada\\Lib\\site-packages\\seaborn\\_oldcore.py:1498: FutureWarning: is_categorical_dtype is deprecated and will be removed in a future version. Use isinstance(dtype, CategoricalDtype) instead\n",
      "  if pd.api.types.is_categorical_dtype(vector):\n",
      "C:\\Users\\41794\\anaconda3\\envs\\ada\\Lib\\site-packages\\seaborn\\_oldcore.py:1498: FutureWarning: is_categorical_dtype is deprecated and will be removed in a future version. Use isinstance(dtype, CategoricalDtype) instead\n",
      "  if pd.api.types.is_categorical_dtype(vector):\n",
      "C:\\Users\\41794\\anaconda3\\envs\\ada\\Lib\\site-packages\\seaborn\\_oldcore.py:1498: FutureWarning: is_categorical_dtype is deprecated and will be removed in a future version. Use isinstance(dtype, CategoricalDtype) instead\n",
      "  if pd.api.types.is_categorical_dtype(vector):\n"
     ]
    },
    {
     "data": {
      "text/plain": "<Figure size 800x400 with 1 Axes>",
      "image/png": "[encoded data removed]"
     },
     "metadata": {},
     "output_type": "display_data"
    }
   ]
  },
  {
   "cell_type": "markdown",
   "source": [
    "The train set it now balanced."
   ],
   "metadata": {
    "id": "yP8uVxeCcCb9"
   },
   "id": "yP8uVxeCcCb9"
  },
  {
   "cell_type": "code",
   "source": [
    "test_path = 'test_set.parquet'\n",
    "test_set.to_parquet(test_path, index=True)"
   ],
   "metadata": {
    "id": "GVQbgQmQNt83",
    "executionInfo": {
     "status": "aborted",
     "timestamp": 1702758817440,
     "user_tz": -60,
     "elapsed": 32,
     "user": {
      "displayName": "Garik AMV",
      "userId": "17416187305741627565"
     }
    }
   },
   "id": "GVQbgQmQNt83",
   "execution_count": 16,
   "outputs": []
  },
  {
   "cell_type": "code",
   "source": [
    "train_path = 'train_set_augmented.parquet'\n",
    "train_set.to_parquet(train_path, index=True)"
   ],
   "metadata": {
    "id": "fBwnrDSIOtmT",
    "executionInfo": {
     "status": "aborted",
     "timestamp": 1702758817441,
     "user_tz": -60,
     "elapsed": 33,
     "user": {
      "displayName": "Garik AMV",
      "userId": "17416187305741627565"
     }
    }
   },
   "id": "fBwnrDSIOtmT",
   "execution_count": 11,
   "outputs": []
  }
 ],
 "metadata": {
  "kernelspec": {
   "name": "conda-env-ada-py",
   "language": "python",
   "display_name": "Python [conda env:ada] *"
  },
  "language_info": {
   "codemirror_mode": {
    "name": "ipython",
    "version": 3
   },
   "file_extension": ".py",
   "mimetype": "text/x-python",
   "name": "python",
   "nbconvert_exporter": "python",
   "pygments_lexer": "ipython3",
   "version": "3.8.5"
  },
  "colab": {
   "provenance": [
    {
     "file_id": "https://github.com/RamiATASSI/ML_project2/blob/main/Tests.ipynb",
     "timestamp": 1701879533842
    }
   ]
  }
 },
 "nbformat": 4,
 "nbformat_minor": 5
}
