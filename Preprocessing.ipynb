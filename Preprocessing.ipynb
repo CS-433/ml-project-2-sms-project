{
 "cells": [
  {
   "cell_type": "code",
   "execution_count": 10,
   "id": "sorted-singapore",
   "metadata": {},
   "outputs": [],
   "source": [
    "#!pip install pyarrow\n",
    "#!pip install tensorflow"
   ]
  },
  {
   "cell_type": "code",
   "execution_count": 1,
   "id": "yellow-wilderness",
   "metadata": {
    "pycharm": {
     "is_executing": true
    },
    "scrolled": true
   },
   "outputs": [],
   "source": [
    "import numpy as np\n",
    "import pandas as pd\n",
    "import pyarrow"
   ]
  },
  {
   "cell_type": "code",
   "execution_count": 2,
   "id": "operational-depth",
   "metadata": {},
   "outputs": [],
   "source": [
    "df = pd.read_parquet('dataset.parquet', engine='pyarrow')"
   ]
  },
  {
   "cell_type": "code",
   "execution_count": 3,
   "id": "468872ca-8cbb-4c3e-8369-b872173e1224",
   "metadata": {},
   "outputs": [],
   "source": [
    "#Interpolating linearly for the missing frames\n",
    "df = df.interpolate(method='linear', axis=0, limit_direction='both')"
   ]
  },
  {
   "cell_type": "code",
   "execution_count": null,
   "id": "b8016214-90b2-4eec-bb15-f396e9393b20",
   "metadata": {},
   "outputs": [],
   "source": [
    "df.to_parquet('prep_dataset.parquet', index=True)"
   ]
  },
  {
   "cell_type": "code",
   "execution_count": 4,
   "id": "c91e2e08-f2ab-4303-b2ee-58f8a66ba7a6",
   "metadata": {},
   "outputs": [
    {
     "data": {
      "text/html": [
       "<div>\n",
       "<style scoped>\n",
       "    .dataframe tbody tr th:only-of-type {\n",
       "        vertical-align: middle;\n",
       "    }\n",
       "\n",
       "    .dataframe tbody tr th {\n",
       "        vertical-align: top;\n",
       "    }\n",
       "\n",
       "    .dataframe thead th {\n",
       "        text-align: right;\n",
       "    }\n",
       "</style>\n",
       "<table border=\"1\" class=\"dataframe\">\n",
       "  <thead>\n",
       "    <tr style=\"text-align: right;\">\n",
       "      <th></th>\n",
       "      <th>Participant</th>\n",
       "      <th>Exercise</th>\n",
       "      <th>Set</th>\n",
       "      <th>Camera</th>\n",
       "      <th>time(s)</th>\n",
       "      <th>left_ankle_x</th>\n",
       "      <th>left_ankle_y</th>\n",
       "      <th>left_ankle_z</th>\n",
       "      <th>left_ear_x</th>\n",
       "      <th>left_ear_y</th>\n",
       "      <th>...</th>\n",
       "      <th>right_pinky_z</th>\n",
       "      <th>right_shoulder_x</th>\n",
       "      <th>right_shoulder_y</th>\n",
       "      <th>right_shoulder_z</th>\n",
       "      <th>right_thumb_x</th>\n",
       "      <th>right_thumb_y</th>\n",
       "      <th>right_thumb_z</th>\n",
       "      <th>right_wrist_x</th>\n",
       "      <th>right_wrist_y</th>\n",
       "      <th>right_wrist_z</th>\n",
       "    </tr>\n",
       "  </thead>\n",
       "  <tbody>\n",
       "    <tr>\n",
       "      <th>34</th>\n",
       "      <td>P04</td>\n",
       "      <td>Abduction</td>\n",
       "      <td>Correct</td>\n",
       "      <td>Frontal_Low</td>\n",
       "      <td>1.133333</td>\n",
       "      <td>0.061257</td>\n",
       "      <td>-0.350373</td>\n",
       "      <td>0.344725</td>\n",
       "      <td>0.003512</td>\n",
       "      <td>0.575839</td>\n",
       "      <td>...</td>\n",
       "      <td>-0.151298</td>\n",
       "      <td>-0.025552</td>\n",
       "      <td>0.541597</td>\n",
       "      <td>-0.138189</td>\n",
       "      <td>-0.035060</td>\n",
       "      <td>1.027590</td>\n",
       "      <td>-0.148856</td>\n",
       "      <td>-0.032272</td>\n",
       "      <td>1.014960</td>\n",
       "      <td>-0.140562</td>\n",
       "    </tr>\n",
       "    <tr>\n",
       "      <th>35</th>\n",
       "      <td>P04</td>\n",
       "      <td>Abduction</td>\n",
       "      <td>Correct</td>\n",
       "      <td>Frontal_Low</td>\n",
       "      <td>1.166667</td>\n",
       "      <td>0.022444</td>\n",
       "      <td>0.197917</td>\n",
       "      <td>0.276030</td>\n",
       "      <td>0.032612</td>\n",
       "      <td>-0.013347</td>\n",
       "      <td>...</td>\n",
       "      <td>-0.207359</td>\n",
       "      <td>-0.015390</td>\n",
       "      <td>0.044670</td>\n",
       "      <td>-0.139330</td>\n",
       "      <td>0.141457</td>\n",
       "      <td>0.496583</td>\n",
       "      <td>-0.183538</td>\n",
       "      <td>0.131540</td>\n",
       "      <td>0.487554</td>\n",
       "      <td>-0.184331</td>\n",
       "    </tr>\n",
       "    <tr>\n",
       "      <th>36</th>\n",
       "      <td>P04</td>\n",
       "      <td>Abduction</td>\n",
       "      <td>Correct</td>\n",
       "      <td>Frontal_Low</td>\n",
       "      <td>1.200000</td>\n",
       "      <td>-0.016368</td>\n",
       "      <td>0.746207</td>\n",
       "      <td>0.207336</td>\n",
       "      <td>0.061712</td>\n",
       "      <td>-0.602534</td>\n",
       "      <td>...</td>\n",
       "      <td>-0.263419</td>\n",
       "      <td>-0.005228</td>\n",
       "      <td>-0.452257</td>\n",
       "      <td>-0.140470</td>\n",
       "      <td>0.317974</td>\n",
       "      <td>-0.034424</td>\n",
       "      <td>-0.218219</td>\n",
       "      <td>0.295352</td>\n",
       "      <td>-0.039851</td>\n",
       "      <td>-0.228100</td>\n",
       "    </tr>\n",
       "  </tbody>\n",
       "</table>\n",
       "<p>3 rows × 104 columns</p>\n",
       "</div>"
      ],
      "text/plain": [
       "   Participant   Exercise      Set       Camera   time(s)  left_ankle_x  \\\n",
       "34         P04  Abduction  Correct  Frontal_Low  1.133333      0.061257   \n",
       "35         P04  Abduction  Correct  Frontal_Low  1.166667      0.022444   \n",
       "36         P04  Abduction  Correct  Frontal_Low  1.200000     -0.016368   \n",
       "\n",
       "    left_ankle_y  left_ankle_z  left_ear_x  left_ear_y  ...  right_pinky_z  \\\n",
       "34     -0.350373      0.344725    0.003512    0.575839  ...      -0.151298   \n",
       "35      0.197917      0.276030    0.032612   -0.013347  ...      -0.207359   \n",
       "36      0.746207      0.207336    0.061712   -0.602534  ...      -0.263419   \n",
       "\n",
       "    right_shoulder_x  right_shoulder_y  right_shoulder_z  right_thumb_x  \\\n",
       "34         -0.025552          0.541597         -0.138189      -0.035060   \n",
       "35         -0.015390          0.044670         -0.139330       0.141457   \n",
       "36         -0.005228         -0.452257         -0.140470       0.317974   \n",
       "\n",
       "    right_thumb_y  right_thumb_z  right_wrist_x  right_wrist_y  right_wrist_z  \n",
       "34       1.027590      -0.148856      -0.032272       1.014960      -0.140562  \n",
       "35       0.496583      -0.183538       0.131540       0.487554      -0.184331  \n",
       "36      -0.034424      -0.218219       0.295352      -0.039851      -0.228100  \n",
       "\n",
       "[3 rows x 104 columns]"
      ]
     },
     "metadata": {},
     "output_type": "display_data"
    }
   ],
   "source": [
    "display(df[1828:1831])"
   ]
  },
  {
   "cell_type": "code",
   "execution_count": null,
   "id": "726d21a8-71e2-4eeb-b7ed-d19379af4ad2",
   "metadata": {},
   "outputs": [],
   "source": [
    "params_columns = ['Participant', 'Exercise', 'Set', 'Camera']\n",
    "df['SequenceLength'] = df.groupby(params_columns)['time(s)'].transform('count')\n",
    "max_sequence_length = df['SequenceLength'].max()\n",
    "\n",
    "padded_sequences = []\n",
    "for sequence_id, group in df.groupby(params_columns):\n",
    "    sequence_data = group.iloc[:, 4:-1].values\n",
    "    pad_width = ((0, max_sequence_length - len(sequence_data)), (0, 0))\n",
    "    padded_sequence = np.pad(sequence_data, pad_width, mode='constant', constant_values=0)\n",
    "    padded_sequences.append(padded_sequence)"
   ]
  },
  {
   "cell_type": "code",
   "execution_count": null,
   "id": "439da3e0-b040-4cda-b498-218837b7084e",
   "metadata": {},
   "outputs": [],
   "source": [
    "padded_df = pd.DataFrame(np.concatenate(padded_sequences, axis=0), columns=df.columns[4:-1])\n",
    "padded_df[params_columns] = np.repeat(df[params_columns].drop_duplicates().values, max_sequence_length, axis=0)\n",
    "padded_df = padded_df[['Participant', 'Exercise', 'Set', 'Camera'] + list(padded_df.columns[:-4])]"
   ]
  },
  {
   "cell_type": "code",
   "execution_count": null,
   "id": "351d9188-0036-40ae-a1d1-d1a1334e3138",
   "metadata": {},
   "outputs": [],
   "source": [
    "print(max_sequence_length)"
   ]
  },
  {
   "cell_type": "code",
   "execution_count": null,
   "id": "01d74e18-366e-4c05-aa93-2bbd2d6e6078",
   "metadata": {},
   "outputs": [],
   "source": [
    "#padded_df.to_parquet('padded_dataset.parquet', index=True)"
   ]
  }
 ],
 "metadata": {
  "kernelspec": {
   "display_name": "Python 3",
   "language": "python",
   "name": "python3"
  },
  "language_info": {
   "codemirror_mode": {
    "name": "ipython",
    "version": 3
   },
   "file_extension": ".py",
   "mimetype": "text/x-python",
   "name": "python",
   "nbconvert_exporter": "python",
   "pygments_lexer": "ipython3",
   "version": "3.8.5"
  }
 },
 "nbformat": 4,
 "nbformat_minor": 5
}
