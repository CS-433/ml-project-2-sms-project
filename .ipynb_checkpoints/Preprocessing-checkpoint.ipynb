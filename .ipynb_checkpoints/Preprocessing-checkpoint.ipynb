{
 "cells": [
  {
   "cell_type": "code",
   "execution_count": 1,
   "id": "sorted-singapore",
   "metadata": {
    "executionInfo": {
     "elapsed": 14,
     "status": "ok",
     "timestamp": 1702027028578,
     "user": {
      "displayName": "baptiste maquignaz",
      "userId": "09858058211747966059"
     },
     "user_tz": -60
    },
    "id": "sorted-singapore"
   },
   "outputs": [],
   "source": [
    "#!pip install pyarrow\n",
    "#!pip install tensorflow"
   ]
  },
  {
   "cell_type": "code",
   "execution_count": 2,
   "id": "yellow-wilderness",
   "metadata": {
    "executionInfo": {
     "elapsed": 1699,
     "status": "ok",
     "timestamp": 1702033031555,
     "user": {
      "displayName": "baptiste maquignaz",
      "userId": "09858058211747966059"
     },
     "user_tz": -60
    },
    "id": "yellow-wilderness",
    "pycharm": {
     "is_executing": true
    },
    "scrolled": true
   },
   "outputs": [],
   "source": [
    "import numpy as np\n",
    "import pandas as pd\n",
    "import pyarrow\n",
    "from tqdm import tqdm\n",
    "import matplotlib.pyplot as plt"
   ]
  },
  {
   "cell_type": "code",
   "execution_count": 3,
   "id": "operational-depth",
   "metadata": {
    "executionInfo": {
     "elapsed": 11172,
     "status": "ok",
     "timestamp": 1702033045387,
     "user": {
      "displayName": "baptiste maquignaz",
      "userId": "09858058211747966059"
     },
     "user_tz": -60
    },
    "id": "operational-depth"
   },
   "outputs": [],
   "source": [
    "df = pd.read_parquet('dataset.parquet', engine='pyarrow')"
   ]
  },
  {
   "cell_type": "code",
   "execution_count": 4,
   "id": "31fa7cb1-4f50-41c1-84f6-e3ad484e500a",
   "metadata": {},
   "outputs": [],
   "source": [
    "nan_mask = df.drop(['Participant', 'Exercise', 'Set', 'Camera','time(s)'], axis = 1).isna().all(axis = 1)\n",
    "# Get the indices of the rows with NaN values\n",
    "nan_indices = [i for i, has_nan in enumerate(nan_mask) if has_nan]\n",
    "\n",
    "th = 30\n",
    "current_sequence_length = 1\n",
    "ids = []\n",
    "\n",
    "for i in range(1, len(nan_indices)):\n",
    "    if nan_indices[i] == nan_indices[i - 1] + 1:\n",
    "        current_sequence_length += 1\n",
    "    else:\n",
    "        if current_sequence_length > th:\n",
    "            ids.append(np.arange(nan_indices[i- current_sequence_length], nan_indices[i]+1))\n",
    "        current_sequence_length = 1\n",
    "ids = np.concatenate(ids)"
   ]
  },
  {
   "cell_type": "code",
   "execution_count": 95,
   "id": "076c94e1-62bb-4170-9532-bc3b9fcbf310",
   "metadata": {},
   "outputs": [
    {
     "data": {
      "text/plain": [
       "array([  40005,   40006,   40007, ..., 2166420, 2166421, 2166422])"
      ]
     },
     "execution_count": 95,
     "metadata": {},
     "output_type": "execute_result"
    }
   ],
   "source": [
    "ids"
   ]
  },
  {
   "cell_type": "code",
   "execution_count": 31,
   "id": "468872ca-8cbb-4c3e-8369-b872173e1224",
   "metadata": {
    "executionInfo": {
     "elapsed": 14119,
     "status": "ok",
     "timestamp": 1702033059464,
     "user": {
      "displayName": "baptiste maquignaz",
      "userId": "09858058211747966059"
     },
     "user_tz": -60
    },
    "id": "468872ca-8cbb-4c3e-8369-b872173e1224"
   },
   "outputs": [],
   "source": [
    "#Interpolating linearly for the missing frames\n",
    "df = df.interpolate(method='linear', axis=0, limit_direction='both')"
   ]
  },
  {
   "cell_type": "code",
   "execution_count": null,
   "id": "b8016214-90b2-4eec-bb15-f396e9393b20",
   "metadata": {
    "id": "b8016214-90b2-4eec-bb15-f396e9393b20"
   },
   "outputs": [],
   "source": [
    "df.to_parquet('prep_dataset.parquet', index=True)"
   ]
  },
  {
   "cell_type": "code",
   "execution_count": 2,
   "id": "76dcf773-0e3e-48b5-a88b-4f9ca5758f0e",
   "metadata": {},
   "outputs": [],
   "source": [
    "df = pd.read_parquet('prep_dataset.parquet', engine='pyarrow')"
   ]
  },
  {
   "cell_type": "code",
   "execution_count": 1,
   "id": "c91e2e08-f2ab-4303-b2ee-58f8a66ba7a6",
   "metadata": {
    "colab": {
     "base_uri": "https://localhost:8080/",
     "height": 208
    },
    "executionInfo": {
     "elapsed": 438,
     "status": "error",
     "timestamp": 1702031960873,
     "user": {
      "displayName": "baptiste maquignaz",
      "userId": "09858058211747966059"
     },
     "user_tz": -60
    },
    "id": "c91e2e08-f2ab-4303-b2ee-58f8a66ba7a6",
    "outputId": "3db09e52-6d67-4d9d-c7c8-37cc2ab5e1a1"
   },
   "outputs": [
    {
     "ename": "NameError",
     "evalue": "ignored",
     "output_type": "error",
     "traceback": [
      "\u001b[0;31m---------------------------------------------------------------------------\u001b[0m",
      "\u001b[0;31mNameError\u001b[0m                                 Traceback (most recent call last)",
      "\u001b[0;32m<ipython-input-1-e31931ffd425>\u001b[0m in \u001b[0;36m<cell line: 1>\u001b[0;34m()\u001b[0m\n\u001b[0;32m----> 1\u001b[0;31m \u001b[0mdisplay\u001b[0m\u001b[0;34m(\u001b[0m\u001b[0mdf\u001b[0m\u001b[0;34m[\u001b[0m\u001b[0;36m1828\u001b[0m\u001b[0;34m:\u001b[0m\u001b[0;36m1831\u001b[0m\u001b[0;34m]\u001b[0m\u001b[0;34m)\u001b[0m\u001b[0;34m\u001b[0m\u001b[0;34m\u001b[0m\u001b[0m\n\u001b[0m",
      "\u001b[0;31mNameError\u001b[0m: name 'df' is not defined"
     ]
    }
   ],
   "source": [
    "display(df[1828:1831])"
   ]
  },
  {
   "cell_type": "code",
   "execution_count": 28,
   "id": "726d21a8-71e2-4eeb-b7ed-d19379af4ad2",
   "metadata": {
    "colab": {
     "base_uri": "https://localhost:8080/"
    },
    "id": "726d21a8-71e2-4eeb-b7ed-d19379af4ad2",
    "outputId": "031dd97c-d40c-4d57-b25f-cb37344e5246"
   },
   "outputs": [
    {
     "name": "stderr",
     "output_type": "stream",
     "text": [
      "Processing: 100%|██████████| 2100/2100 [00:32<00:00, 64.58it/s] \n"
     ]
    }
   ],
   "source": [
    "BLOCK_LENGTH = 20\n",
    "\n",
    "params_columns = ['Participant', 'Exercise', 'Set', 'Camera']\n",
    "df['SequenceLength'] = df.groupby(params_columns)['time(s)'].transform('count')\n",
    "\n",
    "# Initialize lists to store padded arrays\n",
    "padded_params_list = []\n",
    "padded_sequences_list = []\n",
    "\n",
    "# Get the total number of unique groups\n",
    "total_groups = 2100\n",
    "\n",
    "# Create a tqdm object\n",
    "pbar = tqdm(total=total_groups, desc=\"Processing\", position=0, leave=True)\n",
    "\n",
    "# Iterate over the groups with tqdm to display a progress bar\n",
    "for idx, (sequence_id, group) in enumerate(df.groupby(params_columns)):\n",
    "    sequence_data = group.iloc[:, 4:-1].values\n",
    "    sequence_length = len(sequence_data)\n",
    "    pad_width = ((0, ((sequence_length // BLOCK_LENGTH) + 1) * BLOCK_LENGTH - sequence_length), (0, 0))\n",
    "    padded_sequence = np.pad(sequence_data, pad_width, mode='constant', constant_values=0).astype('float32')\n",
    "    # Pad the parameters by repeating the same values for each row in the padded sequence\n",
    "    repeated_params = np.tile(sequence_id, (len(padded_sequence), 1))\n",
    "    \n",
    "    # Append the padded arrays to the lists\n",
    "    padded_params_list.append(repeated_params)\n",
    "    padded_sequences_list.append(padded_sequence)\n",
    "\n",
    "    # Update the tqdm progress bar\n",
    "    pbar.update(1)\n",
    "\n",
    "# Close the tqdm progress bar after completion\n",
    "pbar.close()\n"
   ]
  },
  {
   "cell_type": "code",
   "execution_count": 26,
   "id": "a49eb006-f8f6-4c0a-8991-4952cf4dc54b",
   "metadata": {},
   "outputs": [
    {
     "name": "stdout",
     "output_type": "stream",
     "text": [
      "(2232400, 100)\n"
     ]
    }
   ],
   "source": [
    "padded_params = np.vstack(padded_params_list)\n",
    "#del padded_params_list\n",
    "padded_sequences = np.vstack(padded_sequences_list).astype('float32')\n",
    "#del padded_sequences_list\n",
    "print(padded_sequences.shape)\n",
    "#del padded_sequences\n",
    "#del padded_params\n"
   ]
  },
  {
   "cell_type": "code",
   "execution_count": 29,
   "id": "d4e9b0b7-8545-435e-bc40-c17810f1670a",
   "metadata": {},
   "outputs": [],
   "source": [
    "str_df = pd.DataFrame(padded_params, columns = params_columns)\n",
    "float_df = pd.DataFrame(padded_sequences, columns = df.columns[4:-1])\n",
    "padded_df = pd.concat([str_df,float_df], axis = 1)\n",
    "#del data"
   ]
  },
  {
   "cell_type": "code",
   "execution_count": 7,
   "id": "2bde24ff-a671-49fe-ba29-d87e7fa8d775",
   "metadata": {},
   "outputs": [
    {
     "name": "stdout",
     "output_type": "stream",
     "text": [
      "<class 'pandas.core.frame.DataFrame'>\n",
      "Index: 2210672 entries, 0 to 734\n",
      "Columns: 105 entries, Participant to SequenceLength\n",
      "dtypes: float32(99), float64(1), int64(1), object(4)\n",
      "memory usage: 952.9+ MB\n"
     ]
    }
   ],
   "source": [
    "df.info()"
   ]
  },
  {
   "cell_type": "code",
   "execution_count": 30,
   "id": "3c906029-0384-4e15-bae0-6ff169025357",
   "metadata": {},
   "outputs": [
    {
     "name": "stdout",
     "output_type": "stream",
     "text": [
      "<class 'pandas.core.frame.DataFrame'>\n",
      "RangeIndex: 2232400 entries, 0 to 2232399\n",
      "Columns: 104 entries, Participant to right_wrist_z\n",
      "dtypes: float32(100), object(4)\n",
      "memory usage: 919.7+ MB\n"
     ]
    }
   ],
   "source": [
    "padded_df.info()"
   ]
  },
  {
   "cell_type": "code",
   "execution_count": 31,
   "id": "06f23a19-b1a3-48de-839a-bad9ed799476",
   "metadata": {},
   "outputs": [
    {
     "data": {
      "text/html": [
       "<div>\n",
       "<style scoped>\n",
       "    .dataframe tbody tr th:only-of-type {\n",
       "        vertical-align: middle;\n",
       "    }\n",
       "\n",
       "    .dataframe tbody tr th {\n",
       "        vertical-align: top;\n",
       "    }\n",
       "\n",
       "    .dataframe thead th {\n",
       "        text-align: right;\n",
       "    }\n",
       "</style>\n",
       "<table border=\"1\" class=\"dataframe\">\n",
       "  <thead>\n",
       "    <tr style=\"text-align: right;\">\n",
       "      <th></th>\n",
       "      <th>Participant</th>\n",
       "      <th>Exercise</th>\n",
       "      <th>Set</th>\n",
       "      <th>Camera</th>\n",
       "      <th>time(s)</th>\n",
       "      <th>left_ankle_x</th>\n",
       "      <th>left_ankle_y</th>\n",
       "      <th>left_ankle_z</th>\n",
       "      <th>left_ear_x</th>\n",
       "      <th>left_ear_y</th>\n",
       "      <th>...</th>\n",
       "      <th>right_pinky_z</th>\n",
       "      <th>right_shoulder_x</th>\n",
       "      <th>right_shoulder_y</th>\n",
       "      <th>right_shoulder_z</th>\n",
       "      <th>right_thumb_x</th>\n",
       "      <th>right_thumb_y</th>\n",
       "      <th>right_thumb_z</th>\n",
       "      <th>right_wrist_x</th>\n",
       "      <th>right_wrist_y</th>\n",
       "      <th>right_wrist_z</th>\n",
       "    </tr>\n",
       "  </thead>\n",
       "  <tbody>\n",
       "    <tr>\n",
       "      <th>0</th>\n",
       "      <td>P04</td>\n",
       "      <td>Abduction</td>\n",
       "      <td>A</td>\n",
       "      <td>Frontal_Low</td>\n",
       "      <td>0.000000</td>\n",
       "      <td>0.032965</td>\n",
       "      <td>-0.474184</td>\n",
       "      <td>0.624312</td>\n",
       "      <td>-0.070598</td>\n",
       "      <td>0.542229</td>\n",
       "      <td>...</td>\n",
       "      <td>-0.672386</td>\n",
       "      <td>-0.069615</td>\n",
       "      <td>0.441862</td>\n",
       "      <td>-0.438722</td>\n",
       "      <td>-0.049521</td>\n",
       "      <td>0.955902</td>\n",
       "      <td>-0.631346</td>\n",
       "      <td>-0.057846</td>\n",
       "      <td>0.942763</td>\n",
       "      <td>-0.628748</td>\n",
       "    </tr>\n",
       "    <tr>\n",
       "      <th>1</th>\n",
       "      <td>P04</td>\n",
       "      <td>Abduction</td>\n",
       "      <td>A</td>\n",
       "      <td>Frontal_Low</td>\n",
       "      <td>0.033333</td>\n",
       "      <td>0.043956</td>\n",
       "      <td>-0.442556</td>\n",
       "      <td>0.637613</td>\n",
       "      <td>-0.059279</td>\n",
       "      <td>0.543494</td>\n",
       "      <td>...</td>\n",
       "      <td>-0.674930</td>\n",
       "      <td>-0.066681</td>\n",
       "      <td>0.441969</td>\n",
       "      <td>-0.440480</td>\n",
       "      <td>-0.042736</td>\n",
       "      <td>0.959293</td>\n",
       "      <td>-0.633053</td>\n",
       "      <td>-0.050225</td>\n",
       "      <td>0.945640</td>\n",
       "      <td>-0.630666</td>\n",
       "    </tr>\n",
       "    <tr>\n",
       "      <th>2</th>\n",
       "      <td>P04</td>\n",
       "      <td>Abduction</td>\n",
       "      <td>A</td>\n",
       "      <td>Frontal_Low</td>\n",
       "      <td>0.066667</td>\n",
       "      <td>0.032360</td>\n",
       "      <td>-0.456428</td>\n",
       "      <td>0.619597</td>\n",
       "      <td>-0.062057</td>\n",
       "      <td>0.545033</td>\n",
       "      <td>...</td>\n",
       "      <td>-0.675053</td>\n",
       "      <td>-0.068457</td>\n",
       "      <td>0.442443</td>\n",
       "      <td>-0.441442</td>\n",
       "      <td>-0.042656</td>\n",
       "      <td>0.959001</td>\n",
       "      <td>-0.633970</td>\n",
       "      <td>-0.050077</td>\n",
       "      <td>0.945382</td>\n",
       "      <td>-0.631667</td>\n",
       "    </tr>\n",
       "    <tr>\n",
       "      <th>3</th>\n",
       "      <td>P04</td>\n",
       "      <td>Abduction</td>\n",
       "      <td>A</td>\n",
       "      <td>Frontal_Low</td>\n",
       "      <td>0.100000</td>\n",
       "      <td>0.022615</td>\n",
       "      <td>-0.472325</td>\n",
       "      <td>0.627187</td>\n",
       "      <td>-0.061786</td>\n",
       "      <td>0.542426</td>\n",
       "      <td>...</td>\n",
       "      <td>-0.734107</td>\n",
       "      <td>-0.062215</td>\n",
       "      <td>0.423310</td>\n",
       "      <td>-0.462091</td>\n",
       "      <td>-0.044001</td>\n",
       "      <td>0.939052</td>\n",
       "      <td>-0.687761</td>\n",
       "      <td>-0.051261</td>\n",
       "      <td>0.924206</td>\n",
       "      <td>-0.685207</td>\n",
       "    </tr>\n",
       "    <tr>\n",
       "      <th>4</th>\n",
       "      <td>P04</td>\n",
       "      <td>Abduction</td>\n",
       "      <td>A</td>\n",
       "      <td>Frontal_Low</td>\n",
       "      <td>0.133333</td>\n",
       "      <td>0.010121</td>\n",
       "      <td>-0.498533</td>\n",
       "      <td>0.502819</td>\n",
       "      <td>-0.063879</td>\n",
       "      <td>0.551627</td>\n",
       "      <td>...</td>\n",
       "      <td>-0.609257</td>\n",
       "      <td>-0.041220</td>\n",
       "      <td>0.455357</td>\n",
       "      <td>-0.418660</td>\n",
       "      <td>-0.030477</td>\n",
       "      <td>0.960790</td>\n",
       "      <td>-0.572801</td>\n",
       "      <td>-0.033562</td>\n",
       "      <td>0.948232</td>\n",
       "      <td>-0.573078</td>\n",
       "    </tr>\n",
       "    <tr>\n",
       "      <th>...</th>\n",
       "      <td>...</td>\n",
       "      <td>...</td>\n",
       "      <td>...</td>\n",
       "      <td>...</td>\n",
       "      <td>...</td>\n",
       "      <td>...</td>\n",
       "      <td>...</td>\n",
       "      <td>...</td>\n",
       "      <td>...</td>\n",
       "      <td>...</td>\n",
       "      <td>...</td>\n",
       "      <td>...</td>\n",
       "      <td>...</td>\n",
       "      <td>...</td>\n",
       "      <td>...</td>\n",
       "      <td>...</td>\n",
       "      <td>...</td>\n",
       "      <td>...</td>\n",
       "      <td>...</td>\n",
       "      <td>...</td>\n",
       "      <td>...</td>\n",
       "    </tr>\n",
       "    <tr>\n",
       "      <th>2232395</th>\n",
       "      <td>P28</td>\n",
       "      <td>Stretch</td>\n",
       "      <td>E</td>\n",
       "      <td>Side_Top</td>\n",
       "      <td>0.000000</td>\n",
       "      <td>0.000000</td>\n",
       "      <td>0.000000</td>\n",
       "      <td>0.000000</td>\n",
       "      <td>0.000000</td>\n",
       "      <td>0.000000</td>\n",
       "      <td>...</td>\n",
       "      <td>0.000000</td>\n",
       "      <td>0.000000</td>\n",
       "      <td>0.000000</td>\n",
       "      <td>0.000000</td>\n",
       "      <td>0.000000</td>\n",
       "      <td>0.000000</td>\n",
       "      <td>0.000000</td>\n",
       "      <td>0.000000</td>\n",
       "      <td>0.000000</td>\n",
       "      <td>0.000000</td>\n",
       "    </tr>\n",
       "    <tr>\n",
       "      <th>2232396</th>\n",
       "      <td>P28</td>\n",
       "      <td>Stretch</td>\n",
       "      <td>E</td>\n",
       "      <td>Side_Top</td>\n",
       "      <td>0.000000</td>\n",
       "      <td>0.000000</td>\n",
       "      <td>0.000000</td>\n",
       "      <td>0.000000</td>\n",
       "      <td>0.000000</td>\n",
       "      <td>0.000000</td>\n",
       "      <td>...</td>\n",
       "      <td>0.000000</td>\n",
       "      <td>0.000000</td>\n",
       "      <td>0.000000</td>\n",
       "      <td>0.000000</td>\n",
       "      <td>0.000000</td>\n",
       "      <td>0.000000</td>\n",
       "      <td>0.000000</td>\n",
       "      <td>0.000000</td>\n",
       "      <td>0.000000</td>\n",
       "      <td>0.000000</td>\n",
       "    </tr>\n",
       "    <tr>\n",
       "      <th>2232397</th>\n",
       "      <td>P28</td>\n",
       "      <td>Stretch</td>\n",
       "      <td>E</td>\n",
       "      <td>Side_Top</td>\n",
       "      <td>0.000000</td>\n",
       "      <td>0.000000</td>\n",
       "      <td>0.000000</td>\n",
       "      <td>0.000000</td>\n",
       "      <td>0.000000</td>\n",
       "      <td>0.000000</td>\n",
       "      <td>...</td>\n",
       "      <td>0.000000</td>\n",
       "      <td>0.000000</td>\n",
       "      <td>0.000000</td>\n",
       "      <td>0.000000</td>\n",
       "      <td>0.000000</td>\n",
       "      <td>0.000000</td>\n",
       "      <td>0.000000</td>\n",
       "      <td>0.000000</td>\n",
       "      <td>0.000000</td>\n",
       "      <td>0.000000</td>\n",
       "    </tr>\n",
       "    <tr>\n",
       "      <th>2232398</th>\n",
       "      <td>P28</td>\n",
       "      <td>Stretch</td>\n",
       "      <td>E</td>\n",
       "      <td>Side_Top</td>\n",
       "      <td>0.000000</td>\n",
       "      <td>0.000000</td>\n",
       "      <td>0.000000</td>\n",
       "      <td>0.000000</td>\n",
       "      <td>0.000000</td>\n",
       "      <td>0.000000</td>\n",
       "      <td>...</td>\n",
       "      <td>0.000000</td>\n",
       "      <td>0.000000</td>\n",
       "      <td>0.000000</td>\n",
       "      <td>0.000000</td>\n",
       "      <td>0.000000</td>\n",
       "      <td>0.000000</td>\n",
       "      <td>0.000000</td>\n",
       "      <td>0.000000</td>\n",
       "      <td>0.000000</td>\n",
       "      <td>0.000000</td>\n",
       "    </tr>\n",
       "    <tr>\n",
       "      <th>2232399</th>\n",
       "      <td>P28</td>\n",
       "      <td>Stretch</td>\n",
       "      <td>E</td>\n",
       "      <td>Side_Top</td>\n",
       "      <td>0.000000</td>\n",
       "      <td>0.000000</td>\n",
       "      <td>0.000000</td>\n",
       "      <td>0.000000</td>\n",
       "      <td>0.000000</td>\n",
       "      <td>0.000000</td>\n",
       "      <td>...</td>\n",
       "      <td>0.000000</td>\n",
       "      <td>0.000000</td>\n",
       "      <td>0.000000</td>\n",
       "      <td>0.000000</td>\n",
       "      <td>0.000000</td>\n",
       "      <td>0.000000</td>\n",
       "      <td>0.000000</td>\n",
       "      <td>0.000000</td>\n",
       "      <td>0.000000</td>\n",
       "      <td>0.000000</td>\n",
       "    </tr>\n",
       "  </tbody>\n",
       "</table>\n",
       "<p>2232400 rows × 104 columns</p>\n",
       "</div>"
      ],
      "text/plain": [
       "        Participant   Exercise Set       Camera   time(s)  left_ankle_x  \\\n",
       "0               P04  Abduction   A  Frontal_Low  0.000000      0.032965   \n",
       "1               P04  Abduction   A  Frontal_Low  0.033333      0.043956   \n",
       "2               P04  Abduction   A  Frontal_Low  0.066667      0.032360   \n",
       "3               P04  Abduction   A  Frontal_Low  0.100000      0.022615   \n",
       "4               P04  Abduction   A  Frontal_Low  0.133333      0.010121   \n",
       "...             ...        ...  ..          ...       ...           ...   \n",
       "2232395         P28    Stretch   E     Side_Top  0.000000      0.000000   \n",
       "2232396         P28    Stretch   E     Side_Top  0.000000      0.000000   \n",
       "2232397         P28    Stretch   E     Side_Top  0.000000      0.000000   \n",
       "2232398         P28    Stretch   E     Side_Top  0.000000      0.000000   \n",
       "2232399         P28    Stretch   E     Side_Top  0.000000      0.000000   \n",
       "\n",
       "         left_ankle_y  left_ankle_z  left_ear_x  left_ear_y  ...  \\\n",
       "0           -0.474184      0.624312   -0.070598    0.542229  ...   \n",
       "1           -0.442556      0.637613   -0.059279    0.543494  ...   \n",
       "2           -0.456428      0.619597   -0.062057    0.545033  ...   \n",
       "3           -0.472325      0.627187   -0.061786    0.542426  ...   \n",
       "4           -0.498533      0.502819   -0.063879    0.551627  ...   \n",
       "...               ...           ...         ...         ...  ...   \n",
       "2232395      0.000000      0.000000    0.000000    0.000000  ...   \n",
       "2232396      0.000000      0.000000    0.000000    0.000000  ...   \n",
       "2232397      0.000000      0.000000    0.000000    0.000000  ...   \n",
       "2232398      0.000000      0.000000    0.000000    0.000000  ...   \n",
       "2232399      0.000000      0.000000    0.000000    0.000000  ...   \n",
       "\n",
       "         right_pinky_z  right_shoulder_x  right_shoulder_y  right_shoulder_z  \\\n",
       "0            -0.672386         -0.069615          0.441862         -0.438722   \n",
       "1            -0.674930         -0.066681          0.441969         -0.440480   \n",
       "2            -0.675053         -0.068457          0.442443         -0.441442   \n",
       "3            -0.734107         -0.062215          0.423310         -0.462091   \n",
       "4            -0.609257         -0.041220          0.455357         -0.418660   \n",
       "...                ...               ...               ...               ...   \n",
       "2232395       0.000000          0.000000          0.000000          0.000000   \n",
       "2232396       0.000000          0.000000          0.000000          0.000000   \n",
       "2232397       0.000000          0.000000          0.000000          0.000000   \n",
       "2232398       0.000000          0.000000          0.000000          0.000000   \n",
       "2232399       0.000000          0.000000          0.000000          0.000000   \n",
       "\n",
       "         right_thumb_x  right_thumb_y  right_thumb_z  right_wrist_x  \\\n",
       "0            -0.049521       0.955902      -0.631346      -0.057846   \n",
       "1            -0.042736       0.959293      -0.633053      -0.050225   \n",
       "2            -0.042656       0.959001      -0.633970      -0.050077   \n",
       "3            -0.044001       0.939052      -0.687761      -0.051261   \n",
       "4            -0.030477       0.960790      -0.572801      -0.033562   \n",
       "...                ...            ...            ...            ...   \n",
       "2232395       0.000000       0.000000       0.000000       0.000000   \n",
       "2232396       0.000000       0.000000       0.000000       0.000000   \n",
       "2232397       0.000000       0.000000       0.000000       0.000000   \n",
       "2232398       0.000000       0.000000       0.000000       0.000000   \n",
       "2232399       0.000000       0.000000       0.000000       0.000000   \n",
       "\n",
       "         right_wrist_y  right_wrist_z  \n",
       "0             0.942763      -0.628748  \n",
       "1             0.945640      -0.630666  \n",
       "2             0.945382      -0.631667  \n",
       "3             0.924206      -0.685207  \n",
       "4             0.948232      -0.573078  \n",
       "...                ...            ...  \n",
       "2232395       0.000000       0.000000  \n",
       "2232396       0.000000       0.000000  \n",
       "2232397       0.000000       0.000000  \n",
       "2232398       0.000000       0.000000  \n",
       "2232399       0.000000       0.000000  \n",
       "\n",
       "[2232400 rows x 104 columns]"
      ]
     },
     "metadata": {},
     "output_type": "display_data"
    }
   ],
   "source": [
    "display(padded_df)"
   ]
  },
  {
   "cell_type": "code",
   "execution_count": 32,
   "id": "01d74e18-366e-4c05-aa93-2bbd2d6e6078",
   "metadata": {
    "id": "01d74e18-366e-4c05-aa93-2bbd2d6e6078"
   },
   "outputs": [],
   "source": [
    "padded_df.to_parquet('block_dataset.parquet', index=True)"
   ]
  },
  {
   "cell_type": "code",
   "execution_count": null,
   "id": "eca42046-b9b9-4369-b4cd-3f27f206285c",
   "metadata": {},
   "outputs": [],
   "source": []
  }
 ],
 "metadata": {
  "colab": {
   "provenance": []
  },
  "kernelspec": {
   "display_name": "Python 3",
   "language": "python",
   "name": "python3"
  },
  "language_info": {
   "codemirror_mode": {
    "name": "ipython",
    "version": 3
   },
   "file_extension": ".py",
   "mimetype": "text/x-python",
   "name": "python",
   "nbconvert_exporter": "python",
   "pygments_lexer": "ipython3",
   "version": "3.8.5"
  }
 },
 "nbformat": 4,
 "nbformat_minor": 5
}
