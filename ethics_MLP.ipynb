{
 "cells": [
  {
   "cell_type": "markdown",
   "source": [
    "In this notebook we will present a potential ethical issue. Namely, we will demonstrate an example where slow executions have lower accuracy than fast executions, illustrating that if a model is mostly trained on healthy/uninjured individuals (represented by fast executions), it will fail to predict executions of injured individuals, which are in fact people that would benefit the most from physiotherapy."
   ],
   "metadata": {
    "id": "AH5SAQdZ5LHm"
   },
   "id": "AH5SAQdZ5LHm"
  },
  {
   "cell_type": "code",
   "execution_count": 1,
   "metadata": {
    "id": "yellow-wilderness",
    "executionInfo": {
     "status": "ok",
     "timestamp": 1703145247288,
     "user_tz": -60,
     "elapsed": 9667,
     "user": {
      "displayName": "Garik AMV",
      "userId": "17416187305741627565"
     }
    }
   },
   "outputs": [
    {
     "name": "stderr",
     "output_type": "stream",
     "text": [
      "C:\\Users\\41794\\anaconda3\\envs\\ada\\Lib\\site-packages\\torchvision\\io\\image.py:13: UserWarning: Failed to load image Python extension: '[WinError 127] La procédure spécifiée est introuvable'If you don't plan on using image functionality from `torchvision.io`, you can ignore this warning. Otherwise, there might be something wrong with your environment. Did you have `libjpeg` or `libpng` installed before building `torchvision` from source?\n",
      "  warn(\n"
     ]
    }
   ],
   "source": [
    "import helpers\n",
    "import numpy as np\n",
    "import gc\n",
    "import torch\n",
    "import torch.nn as nn\n",
    "import torch.optim as optim\n",
    "from torch.utils.data import DataLoader, Dataset,TensorDataset\n",
    "from torch.optim import lr_scheduler\n",
    "import pandas as pd\n",
    "import pyarrow\n",
    "from torchvision import models, transforms\n",
    "#from sklearn.model_selection import train_test_split\n",
    "from sklearn.metrics import accuracy_score, classification_report"
   ],
   "id": "yellow-wilderness"
  },
  {
   "cell_type": "code",
   "execution_count": null,
   "outputs": [],
   "source": [
    "# Change paths\n",
    "model_path = 'paths/ethics.path'\n",
    "test_path = 'test_set_not_std.parquet'\n",
    "train_path = 'train_set_not_std_less_noise.parquet'\n",
    "test_slow_path = 'slow_test.parquet'\n",
    "test_fast_path = 'fast_test.parquet'"
   ],
   "metadata": {
    "collapsed": false
   }
  },
  {
   "cell_type": "code",
   "execution_count": 4,
   "metadata": {
    "id": "uYd4BrSRyxxu",
    "executionInfo": {
     "status": "ok",
     "timestamp": 1703145272985,
     "user_tz": -60,
     "elapsed": 23896,
     "user": {
      "displayName": "Garik AMV",
      "userId": "17416187305741627565"
     }
    }
   },
   "outputs": [],
   "source": [
    "#Importing preprocesssed dataset\n",
    "test_df = pd.read_parquet(test_path, engine='pyarrow')\n",
    "train_df = pd.read_parquet(test_path, engine='pyarrow')\n",
    "test_slow_df = pd.read_parquet(test_slow_path, engine='pyarrow')\n",
    "test_fast_df = pd.read_parquet(test_fast_path, engine='pyarrow')"
   ],
   "id": "uYd4BrSRyxxu"
  },
  {
   "cell_type": "markdown",
   "source": [
    "Define some dictionnaries"
   ],
   "metadata": {
    "collapsed": false
   }
  },
  {
   "cell_type": "code",
   "execution_count": 3,
   "outputs": [],
   "source": [
    "exercise_mapping = {\n",
    "    'Abduction': 0,\n",
    "    'Bird': 1,\n",
    "    'Bridge': 2,\n",
    "    'Knee': 3,\n",
    "    'Shoulder': 4,\n",
    "    'Squat': 5,\n",
    "    'Stretch': 6\n",
    "}\n",
    "set_mapping = {\n",
    "    'Correct' : 0,\n",
    "    'A': 1,\n",
    "    'B': 2,\n",
    "    'C': 3,\n",
    "    'D': 4,\n",
    "    'E': 5,\n",
    "    'F': 6\n",
    "}\n",
    "camera_mapping = {\n",
    "    'Frontal_Top': 0,\n",
    "    'Frontal_Low': 1,\n",
    "    'Side_Top':2,\n",
    "    'Side_Low':3\n",
    "\n",
    "}"
   ],
   "metadata": {
    "collapsed": false
   }
  },
  {
   "cell_type": "code",
   "source": [
    "video_indices = test_df.groupby('video_id').size().values\n",
    "video_indices = np.insert(video_indices, 0, 0)\n",
    "video_indices = np.cumsum(video_indices)\n",
    "exercise_set_mapping = {exercise_set: index for index, exercise_set in enumerate(train_df[['Exercise', 'Set']].drop_duplicates().itertuples(index=False))}"
   ],
   "metadata": {
    "id": "bxhCTAvfT7bM",
    "executionInfo": {
     "status": "ok",
     "timestamp": 1703145273889,
     "user_tz": -60,
     "elapsed": 970,
     "user": {
      "displayName": "Garik AMV",
      "userId": "17416187305741627565"
     }
    }
   },
   "id": "bxhCTAvfT7bM",
   "execution_count": 5,
   "outputs": []
  },
  {
   "cell_type": "code",
   "source": [
    "X_train, X_test, y_train, y_test = helpers.import_data_set(train_df, test_df, set_mapping, False)"
   ],
   "metadata": {
    "id": "ShqlDMUXutXg",
    "executionInfo": {
     "status": "ok",
     "timestamp": 1703145281052,
     "user_tz": -60,
     "elapsed": 7175,
     "user": {
      "displayName": "Garik AMV",
      "userId": "17416187305741627565"
     }
    }
   },
   "id": "ShqlDMUXutXg",
   "execution_count": 6,
   "outputs": []
  },
  {
   "cell_type": "code",
   "source": [
    "# Model for ethical part\n",
    "get_mlp3x256_set = lambda: torch.nn.Sequential(\n",
    "\n",
    "    torch.nn.Flatten(),\n",
    "    torch.nn.Linear(107, 256),\n",
    "    torch.nn.ReLU(),\n",
    "    #nn.Dropout(0.1),\n",
    "    torch.nn.Linear(256, 256),\n",
    "    torch.nn.ReLU(),\n",
    "    #nn.Dropout(0.1),\n",
    "    torch.nn.Linear(256, 256),\n",
    "    torch.nn.ReLU(),\n",
    "    #nn.Dropout(0.1),\n",
    "    torch.nn.Linear(256, 256),\n",
    "    torch.nn.ReLU(),\n",
    "    torch.nn.Linear(256, 7),\n",
    ")"
   ],
   "metadata": {
    "id": "eutV5oJiSLcz",
    "executionInfo": {
     "status": "ok",
     "timestamp": 1703145281053,
     "user_tz": -60,
     "elapsed": 67,
     "user": {
      "displayName": "Garik AMV",
      "userId": "17416187305741627565"
     }
    }
   },
   "id": "eutV5oJiSLcz",
   "execution_count": 7,
   "outputs": []
  },
  {
   "cell_type": "code",
   "execution_count": 8,
   "metadata": {
    "id": "NtUqeJc4583a",
    "executionInfo": {
     "status": "ok",
     "timestamp": 1703145281054,
     "user_tz": -60,
     "elapsed": 64,
     "user": {
      "displayName": "Garik AMV",
      "userId": "17416187305741627565"
     }
    }
   },
   "outputs": [],
   "source": [
    "# Create an instance of the custom dataset\n",
    "dataset = TensorDataset(X_train, y_train)\n",
    "\n",
    "# Create a DataLoader\n",
    "learning_rate = 0.001\n",
    "batch_size = 256\n",
    "dataloader = DataLoader(dataset, batch_size=batch_size, shuffle=True)\n",
    "\n",
    "model = get_mlp3x256_set()\n",
    "model.train()\n",
    "model.load_state_dict(torch.load(model_path, map_location=torch.device('cpu')))\n",
    "\n",
    "criterion = nn.CrossEntropyLoss()\n",
    "optimizer = optim.Adam(model.parameters(), lr=learning_rate)\n",
    "scheduler = lr_scheduler.StepLR(optimizer, step_size=2, gamma=0.1)"
   ],
   "id": "NtUqeJc4583a"
  },
  {
   "cell_type": "markdown",
   "source": [
    "This is how we trained the model, if you want to retrain, just uncomment, otherwise, directly take the trained path"
   ],
   "metadata": {
    "id": "Y0bSjxhQV377"
   },
   "id": "Y0bSjxhQV377"
  },
  {
   "cell_type": "code",
   "execution_count": 9,
   "metadata": {
    "id": "EZiRAlm45-jE",
    "executionInfo": {
     "status": "ok",
     "timestamp": 1703145281054,
     "user_tz": -60,
     "elapsed": 62,
     "user": {
      "displayName": "Garik AMV",
      "userId": "17416187305741627565"
     }
    }
   },
   "outputs": [],
   "source": [
    "#for i in range(10):\n",
    "  #helpers.train_model(1, model, optimizer, criterion, dataloader, scheduler, model_path)\n",
    "  #helpers.test_accuracy(model, X_test,y_test,video_indices)"
   ],
   "id": "EZiRAlm45-jE"
  },
  {
   "cell_type": "markdown",
   "source": [
    "Check accuracy for fast videos"
   ],
   "metadata": {
    "id": "N3rdI_3Z0gji"
   },
   "id": "N3rdI_3Z0gji"
  },
  {
   "cell_type": "code",
   "source": [
    "X_train, X_test_fast, y_train, y_test_fast = helpers.import_data_set(train_df, test_fast_df, set_mapping, False)"
   ],
   "metadata": {
    "id": "3B8Qyl4Q04UY",
    "executionInfo": {
     "status": "ok",
     "timestamp": 1703145285008,
     "user_tz": -60,
     "elapsed": 4015,
     "user": {
      "displayName": "Garik AMV",
      "userId": "17416187305741627565"
     }
    }
   },
   "id": "3B8Qyl4Q04UY",
   "execution_count": 10,
   "outputs": []
  },
  {
   "cell_type": "code",
   "source": [
    "video_indices = test_fast_df.groupby('video_id').size().values\n",
    "video_indices = np.insert(video_indices, 0, 0)\n",
    "video_indices = np.cumsum(video_indices)"
   ],
   "metadata": {
    "id": "8IEDtbIwTJoY",
    "executionInfo": {
     "status": "ok",
     "timestamp": 1703145285009,
     "user_tz": -60,
     "elapsed": 62,
     "user": {
      "displayName": "Garik AMV",
      "userId": "17416187305741627565"
     }
    }
   },
   "id": "8IEDtbIwTJoY",
   "execution_count": 11,
   "outputs": []
  },
  {
   "cell_type": "code",
   "source": [
    "helpers.test_accuracy(model, X_test_fast,y_test_fast,video_indices)"
   ],
   "metadata": {
    "colab": {
     "base_uri": "https://localhost:8080/"
    },
    "id": "fxQP5qZM1Q6b",
    "executionInfo": {
     "status": "ok",
     "timestamp": 1703145289051,
     "user_tz": -60,
     "elapsed": 4099,
     "user": {
      "displayName": "Garik AMV",
      "userId": "17416187305741627565"
     }
    },
    "outputId": "2f0bc778-3bb9-4b79-cba5-9a51f4b3749c"
   },
   "id": "fxQP5qZM1Q6b",
   "execution_count": 12,
   "outputs": [
    {
     "name": "stdout",
     "output_type": "stream",
     "text": [
      "Accuracy on each frame: 0.4623\n",
      "Accuracy for videos: 0.6087\n",
      "Classification Report:\n",
      "              precision    recall  f1-score   support\n",
      "\n",
      "           0       0.55      0.73      0.62        73\n",
      "           1       0.72      0.65      0.69        52\n",
      "           2       0.61      0.48      0.54        56\n",
      "           3       0.59      0.48      0.53        21\n",
      "           4       0.84      0.67      0.74        24\n",
      "           5       0.00      0.00      0.00         4\n",
      "\n",
      "    accuracy                           0.61       230\n",
      "   macro avg       0.55      0.50      0.52       230\n",
      "weighted avg       0.63      0.61      0.61       230\n",
      "\n"
     ]
    }
   ]
  },
  {
   "cell_type": "markdown",
   "source": [
    "Check accuracy for slow videos"
   ],
   "metadata": {
    "id": "c-MMRoLtTftY"
   },
   "id": "c-MMRoLtTftY"
  },
  {
   "cell_type": "code",
   "source": [
    "X_train, X_test_slow, y_train, y_test_slow = helpers.import_data_set(train_df, test_slow_df, set_mapping, False)"
   ],
   "metadata": {
    "id": "JlbSH_uKTh6C",
    "executionInfo": {
     "status": "ok",
     "timestamp": 1703145293667,
     "user_tz": -60,
     "elapsed": 4642,
     "user": {
      "displayName": "Garik AMV",
      "userId": "17416187305741627565"
     }
    }
   },
   "id": "JlbSH_uKTh6C",
   "execution_count": 13,
   "outputs": []
  },
  {
   "cell_type": "code",
   "source": [
    "video_indices = test_slow_df.groupby('video_id').size().values\n",
    "video_indices = np.insert(video_indices, 0, 0)\n",
    "video_indices = np.cumsum(video_indices)"
   ],
   "metadata": {
    "id": "7sv9Mk5SUQs7",
    "executionInfo": {
     "status": "ok",
     "timestamp": 1703145293667,
     "user_tz": -60,
     "elapsed": 25,
     "user": {
      "displayName": "Garik AMV",
      "userId": "17416187305741627565"
     }
    }
   },
   "id": "7sv9Mk5SUQs7",
   "execution_count": 14,
   "outputs": []
  },
  {
   "cell_type": "code",
   "source": [
    "helpers.test_accuracy(model, X_test_slow,y_test_slow,video_indices)"
   ],
   "metadata": {
    "colab": {
     "base_uri": "https://localhost:8080/"
    },
    "id": "HhpmVXXFUU46",
    "executionInfo": {
     "status": "ok",
     "timestamp": 1703145299037,
     "user_tz": -60,
     "elapsed": 5394,
     "user": {
      "displayName": "Garik AMV",
      "userId": "17416187305741627565"
     }
    },
    "outputId": "4cbbe2ef-e5bc-4911-8884-1fd47b66ea5b"
   },
   "id": "HhpmVXXFUU46",
   "execution_count": 15,
   "outputs": [
    {
     "name": "stdout",
     "output_type": "stream",
     "text": [
      "Accuracy on each frame: 0.3109\n",
      "Accuracy for videos: 0.4105\n",
      "Classification Report:\n",
      "              precision    recall  f1-score   support\n",
      "\n",
      "           0       0.51      0.63      0.56        67\n",
      "           1       0.12      0.21      0.15        24\n",
      "           2       0.40      0.75      0.52        16\n",
      "           3       0.70      0.33      0.44        43\n",
      "           4       0.00      0.00      0.00        16\n",
      "           5       0.33      0.42      0.37        12\n",
      "           6       0.00      0.00      0.00        12\n",
      "\n",
      "    accuracy                           0.41       190\n",
      "   macro avg       0.29      0.33      0.29       190\n",
      "weighted avg       0.41      0.41      0.38       190\n",
      "\n"
     ]
    },
    {
     "name": "stderr",
     "output_type": "stream",
     "text": [
      "C:\\Users\\41794\\anaconda3\\envs\\ada\\Lib\\site-packages\\sklearn\\metrics\\_classification.py:1344: UndefinedMetricWarning: Precision and F-score are ill-defined and being set to 0.0 in labels with no predicted samples. Use `zero_division` parameter to control this behavior.\n",
      "  _warn_prf(average, modifier, msg_start, len(result))\n",
      "C:\\Users\\41794\\anaconda3\\envs\\ada\\Lib\\site-packages\\sklearn\\metrics\\_classification.py:1344: UndefinedMetricWarning: Precision and F-score are ill-defined and being set to 0.0 in labels with no predicted samples. Use `zero_division` parameter to control this behavior.\n",
      "  _warn_prf(average, modifier, msg_start, len(result))\n",
      "C:\\Users\\41794\\anaconda3\\envs\\ada\\Lib\\site-packages\\sklearn\\metrics\\_classification.py:1344: UndefinedMetricWarning: Precision and F-score are ill-defined and being set to 0.0 in labels with no predicted samples. Use `zero_division` parameter to control this behavior.\n",
      "  _warn_prf(average, modifier, msg_start, len(result))\n"
     ]
    }
   ]
  }
 ],
 "metadata": {
  "colab": {
   "provenance": []
  },
  "kernelspec": {
   "display_name": "Python 3",
   "name": "python3"
  },
  "language_info": {
   "codemirror_mode": {
    "name": "ipython",
    "version": 3
   },
   "file_extension": ".py",
   "mimetype": "text/x-python",
   "name": "python",
   "nbconvert_exporter": "python",
   "pygments_lexer": "ipython3",
   "version": "3.8.5"
  }
 },
 "nbformat": 4,
 "nbformat_minor": 5
}
